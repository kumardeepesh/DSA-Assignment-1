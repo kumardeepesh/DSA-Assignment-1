{
 "cells": [
  {
   "cell_type": "markdown",
   "id": "72d65332-e684-4325-8732-b1e6252d7362",
   "metadata": {},
   "source": [
    "ASSIGNMENT 06"
   ]
  },
  {
   "cell_type": "markdown",
   "id": "f8643463-9f24-418f-9c95-2b5fdc9516e8",
   "metadata": {},
   "source": [
    "Q1. A permutation perm of n + 1 integers of all the integers in the range [0, n] can be represented as a string s of length n where:\n",
    "\n",
    "- s[i] == 'I' if perm[i] < perm[i + 1], and\n",
    "- s[i] == 'D' if perm[i] > perm[i + 1].\n",
    "\n",
    "Given a string s, reconstruct the permutation perm and return it. If there are multiple valid permutations perm, return **any of them**.\n",
    "\n",
    "**Example 1:**\n",
    "\n",
    "**Input:** s = \"IDID\"\n",
    "\n",
    "**Output:**\n",
    "\n",
    "[0,4,1,3,2]"
   ]
  },
  {
   "cell_type": "code",
   "execution_count": 4,
   "id": "2e24a748-5d7b-4ebf-afa9-e1c8847ad997",
   "metadata": {},
   "outputs": [
    {
     "name": "stdout",
     "output_type": "stream",
     "text": [
      "[0, 4, 1, 3, 2]\n"
     ]
    }
   ],
   "source": [
    "def reconstructPermutation(s):\n",
    "    n = len(s)\n",
    "    perm = []\n",
    "    start, end = 0, n\n",
    "    for ch in s:\n",
    "        if ch == 'I':\n",
    "            perm.append(start)\n",
    "            start += 1\n",
    "        elif ch == 'D':\n",
    "            perm.append(end)\n",
    "            end -= 1\n",
    "    perm.append(start)  \n",
    "    return perm\n",
    "s = \"IDID\"\n",
    "result = reconstructPermutation(s)\n",
    "print(result)"
   ]
  },
  {
   "cell_type": "markdown",
   "id": "3198aefb-f878-42bd-a352-ffb73f074aad",
   "metadata": {},
   "source": [
    "Q2. You are given an m x n integer matrix matrix with the following two properties:\n",
    "\n",
    "- Each row is sorted in non-decreasing order.\n",
    "- The first integer of each row is greater than the last integer of the previous row.\n",
    "\n",
    "Given an integer target, return true *if* target *is in* matrix *or* false *otherwise*.\n",
    "\n",
    "You must write a solution in O(log(m * n)) time complexity.\n",
    "\n",
    "**Example 1:**\n",
    "\n",
    "**Input:** matrix = [[1,3,5,7],[10,11,16,20],[23,30,34,60]], target = 3\n",
    "\n",
    "**Output:** true"
   ]
  },
  {
   "cell_type": "code",
   "execution_count": 9,
   "id": "f3f653cb-9641-4a95-a30a-93c38ee04757",
   "metadata": {},
   "outputs": [
    {
     "name": "stdout",
     "output_type": "stream",
     "text": [
      "True\n"
     ]
    }
   ],
   "source": [
    "def searchMatrix(matrix, target):\n",
    "    m, n = len(matrix), len(matrix[0])\n",
    "    left, right = 0, m * n - 1\n",
    "    while left <= right:\n",
    "        mid = (left + right) // 2\n",
    "        row = mid // n\n",
    "        col = mid % n\n",
    "        if matrix[row][col] == target:\n",
    "            return True\n",
    "        elif matrix[row][col] < target:\n",
    "            left = mid + 1\n",
    "        else:\n",
    "            right = mid - 1\n",
    "    return False\n",
    "matrix = [[1, 3, 5, 7], [10, 11, 16, 20], [23, 30, 34, 60]]\n",
    "target = 3\n",
    "result = searchMatrix(matrix, target)\n",
    "print(result) "
   ]
  },
  {
   "cell_type": "markdown",
   "id": "408a8d9b-58f9-4cd1-a3ec-ad024c1f3161",
   "metadata": {},
   "source": [
    "Q3. Given an array of integers arr, return *true if and only if it is a valid mountain array*.\n",
    "\n",
    "Recall that arr is a mountain array if and only if:\n",
    "\n",
    "- arr.length >= 3\n",
    "- There exists some i with 0 < i < arr.length - 1 such that:\n",
    "    - arr[0] < arr[1] < ... < arr[i - 1] < arr[i]\n",
    "    - arr[i] > arr[i + 1] > ... > arr[arr.length - 1]\n",
    "\n",
    "**Example 1:**\n",
    "\n",
    "**Input:** arr = [2,1]\n",
    "\n",
    "**Output:**\n",
    "\n",
    "false"
   ]
  },
  {
   "cell_type": "code",
   "execution_count": 15,
   "id": "57ec2235-5296-4343-984a-6fa85d66f15c",
   "metadata": {},
   "outputs": [
    {
     "name": "stdout",
     "output_type": "stream",
     "text": [
      "False\n"
     ]
    }
   ],
   "source": [
    "def validMountainArray(arr):\n",
    "    n = len(arr)\n",
    "    if n < 3:\n",
    "        return False\n",
    "    left = 0\n",
    "    right = n - 1\n",
    "    while left < n - 1 and arr[left] < arr[left + 1]:\n",
    "        left += 1\n",
    "    if left == 0 or left == n - 1:\n",
    "        return False\n",
    "    while right > 0 and arr[right - 1] > arr[right]:\n",
    "        right -= 1\n",
    "    if right != left - 1:\n",
    "        return False\n",
    "    return right == 0\n",
    "arr = [2, 1]\n",
    "result = validMountainArray(arr)\n",
    "print(result)"
   ]
  },
  {
   "cell_type": "markdown",
   "id": "518977f9-cd0c-42f8-960a-95f7c1a9afd3",
   "metadata": {},
   "source": [
    "Q4. Given a binary array nums, return *the maximum length of a contiguous subarray with an equal number of* 0 *and* 1.\n",
    "\n",
    "**Example 1:**\n",
    "\n",
    "**Input:** nums = [0,1]\n",
    "\n",
    "**Output:** 2\n",
    "\n",
    "**Explanation:**\n",
    "\n",
    "[0, 1] is the longest contiguous subarray with an equal number of 0 and 1."
   ]
  },
  {
   "cell_type": "code",
   "execution_count": 22,
   "id": "f3feafeb-e947-4276-bbc9-e8505bc1f867",
   "metadata": {},
   "outputs": [
    {
     "name": "stdout",
     "output_type": "stream",
     "text": [
      "2\n"
     ]
    }
   ],
   "source": [
    "def findMaxLength(nums):\n",
    "    for i in range(len(nums)):\n",
    "        if nums[i] == 0:\n",
    "            nums[i] = -1\n",
    "    max_length = 0\n",
    "    sum_map = {0: -1}\n",
    "    sum_val = 0\n",
    "    for i in range(len(nums)):\n",
    "        sum_val += nums[i]\n",
    "        if sum_val in sum_map:\n",
    "            max_length = max(max_length, i - sum_map[sum_val])\n",
    "        else:\n",
    "            sum_map[sum_val] = i\n",
    "    return max_length\n",
    "nums = [0, 1]\n",
    "result = findMaxLength(nums)\n",
    "print(result)"
   ]
  },
  {
   "cell_type": "markdown",
   "id": "020e8a63-aa87-42fd-9c8d-83904c3225bd",
   "metadata": {},
   "source": [
    "Q5. The **product sum** of two equal-length arrays a and b is equal to the sum of a[i] * b[i] for all 0 <= i < a.length (**0-indexed**).\n",
    "\n",
    "- For example, if a = [1,2,3,4] and b = [5,2,3,1], the **product sum** would be 1*5 + 2*2 + 3*3 + 4*1 = 22.\n",
    "\n",
    "Given two arrays nums1 and nums2 of length n, return *the **minimum product sum** if you are allowed to **rearrange** the **order** of the elements in* nums1.\n",
    "\n",
    "**Example 1:**\n",
    "\n",
    "**Input:** nums1 = [5,3,4,2], nums2 = [4,2,2,5]\n",
    "\n",
    "**Output:** 40\n",
    "\n",
    "**Explanation:**\n",
    "\n",
    "We can rearrange nums1 to become [3,5,4,2]. The product sum of [3,5,4,2] and [4,2,2,5] is 3*4 + 5*2 + 4*2 + 2*5 = 40."
   ]
  },
  {
   "cell_type": "code",
   "execution_count": 25,
   "id": "d361a925-137c-4126-b981-e5e6ba2b0ce7",
   "metadata": {},
   "outputs": [
    {
     "name": "stdout",
     "output_type": "stream",
     "text": [
      "40\n"
     ]
    }
   ],
   "source": [
    "def minProductSum(nums1, nums2):\n",
    "    nums1.sort()  \n",
    "    nums2.sort(reverse=True)\n",
    "    product_sum = 0\n",
    "    for i in range(len(nums1)):\n",
    "        product_sum += nums1[i] * nums2[i]\n",
    "    return product_sum\n",
    "nums1 = [5, 3, 4, 2]\n",
    "nums2 = [4, 2, 2, 5]\n",
    "result = minProductSum(nums1, nums2)\n",
    "print(result) "
   ]
  },
  {
   "cell_type": "markdown",
   "id": "7589ec52-db78-493c-b341-259da16ae45d",
   "metadata": {},
   "source": [
    "Q6. An integer array original is transformed into a **doubled** array changed by appending **twice the value** of every element in original, and then randomly **shuffling** the resulting array.\n",
    "\n",
    "Given an array changed, return original *if* changed *is a **doubled** array. If* changed *is not a **doubled** array, return an empty array. The elements in* original *may be returned in **any** order*.\n",
    "\n",
    "**Example 1:**\n",
    "\n",
    "**Input:** changed = [1,3,4,2,6,8]\n",
    "\n",
    "**Output:** [1,3,4]\n",
    "\n",
    "**Explanation:** One possible original array could be [1,3,4]:\n",
    "\n",
    "- Twice the value of 1 is 1 * 2 = 2.\n",
    "- Twice the value of 3 is 3 * 2 = 6.\n",
    "- Twice the value of 4 is 4 * 2 = 8.\n",
    "\n",
    "Other original arrays could be [4,3,1] or [3,1,4]."
   ]
  },
  {
   "cell_type": "code",
   "execution_count": 32,
   "id": "a37178d3-b3f7-418a-a1c5-66c6a89907f8",
   "metadata": {},
   "outputs": [
    {
     "name": "stdout",
     "output_type": "stream",
     "text": [
      "[1, 3, 4]\n"
     ]
    }
   ],
   "source": [
    "def findOriginalArray(changed):\n",
    "    count = {}\n",
    "    original = []\n",
    "    for num in changed:\n",
    "        count[num] = count.get(num, 0) + 1\n",
    "    for num in changed:\n",
    "        if count[num] == 0:\n",
    "            continue\n",
    "        if num * 2 in count and count[num * 2] > 0:\n",
    "            original.append(num)\n",
    "            count[num] -= 1\n",
    "            count[num * 2] -= 1\n",
    "        else:\n",
    "            return []\n",
    "    if len(original) != len(set(original)):\n",
    "        return []\n",
    "    return original\n",
    "changed = [1, 3, 4, 2, 6, 8]\n",
    "result = findOriginalArray(changed)\n",
    "print(result)"
   ]
  },
  {
   "cell_type": "markdown",
   "id": "0323fced-ea9b-440f-a15b-e62ddeb43eac",
   "metadata": {},
   "source": [
    "Q7. Given a positive integer n, generate an n x n matrix filled with elements from 1 to n^2 in spiral order.\n",
    "\n",
    "**Example 1:**\n",
    "\n",
    "**Input:** n = 3\n",
    "\n",
    "**Output:** [[1,2,3],[8,9,4],[7,6,5]]"
   ]
  },
  {
   "cell_type": "code",
   "execution_count": 39,
   "id": "045b73f2-00cc-4cb6-bcd6-2247f87b786c",
   "metadata": {},
   "outputs": [
    {
     "name": "stdout",
     "output_type": "stream",
     "text": [
      "[1, 2, 3]\n",
      "[8, 9, 4]\n",
      "[7, 6, 5]\n"
     ]
    }
   ],
   "source": [
    "def generateMatrix(n):\n",
    "    matrix = [[0] * n for _ in range(n)]\n",
    "    num = 1\n",
    "    top, bottom, left, right = 0, n - 1, 0, n - 1\n",
    "    while num <= n * n:\n",
    "        for i in range(left, right + 1):\n",
    "            matrix[top][i] = num\n",
    "            num += 1\n",
    "        top += 1\n",
    "        for i in range(top, bottom + 1):\n",
    "            matrix[i][right] = num\n",
    "            num += 1\n",
    "        right -= 1\n",
    "        for i in range(right, left - 1, -1):\n",
    "            matrix[bottom][i] = num\n",
    "            num += 1\n",
    "        bottom -= 1\n",
    "        for i in range(bottom, top - 1, -1):\n",
    "            matrix[i][left] = num\n",
    "            num += 1\n",
    "        left += 1\n",
    "    return matrix\n",
    "n = 3\n",
    "result = generateMatrix(n)\n",
    "for row in result:\n",
    "    print(row)"
   ]
  },
  {
   "cell_type": "markdown",
   "id": "46c038e4-f790-4469-945b-be23081be442",
   "metadata": {},
   "source": [
    "Q8. Given two [sparse matrices](https://en.wikipedia.org/wiki/Sparse_matrix) mat1 of size m x k and mat2 of size k x n, return the result of mat1 x mat2. You may assume that multiplication is always possible.\n",
    "\n",
    "**Example 1:**\n",
    "\n",
    "**Input:** mat1 = [[1,0,0],[-1,0,3]], mat2 = [[7,0,0],[0,0,0],[0,0,1]]\n",
    "\n",
    "**Output:**\n",
    "\n",
    "[[7,0,0],[-7,0,3]]"
   ]
  },
  {
   "cell_type": "code",
   "execution_count": 47,
   "id": "4749a478-b963-4423-8eba-9a2388b327d0",
   "metadata": {},
   "outputs": [
    {
     "name": "stdout",
     "output_type": "stream",
     "text": [
      "[7, 0, 0]\n",
      "[-7, 0, 3]\n"
     ]
    }
   ],
   "source": [
    "def multiplySparseMatrices(mat1, mat2):\n",
    "    m, k1 = len(mat1), len(mat1[0])\n",
    "    k2, n = len(mat2), len(mat2[0])\n",
    "    csr1 = []\n",
    "    row_ptr1 = [0] * (m + 1)\n",
    "    col_idx1 = []\n",
    "    for i in range(m):\n",
    "        for j in range(k1):\n",
    "            if mat1[i][j] != 0:\n",
    "                col_idx1.append(j)\n",
    "                csr1.append(mat1[i][j])\n",
    "                row_ptr1[i + 1] += 1\n",
    "    for i in range(1, m + 1):\n",
    "        row_ptr1[i] += row_ptr1[i - 1]\n",
    "    csr2 = []\n",
    "    row_ptr2 = [0] * (k2 + 1)\n",
    "    col_idx2 = []\n",
    "    for i in range(k2):\n",
    "        for j in range(n):\n",
    "            if mat2[i][j] != 0:\n",
    "                col_idx2.append(j)\n",
    "                csr2.append(mat2[i][j])\n",
    "                row_ptr2[i + 1] += 1\n",
    "    for i in range(1, k2 + 1):\n",
    "        row_ptr2[i] += row_ptr2[i - 1]\n",
    "    result = [[0] * n for _ in range(m)]\n",
    "    for i in range(m):\n",
    "        for j in range(k2):\n",
    "            for p in range(row_ptr1[i], row_ptr1[i + 1]):\n",
    "                for q in range(row_ptr2[j], row_ptr2[j + 1]):\n",
    "                    if col_idx1[p] == col_idx2[q]:\n",
    "                        result[i][col_idx2[q]] += csr1[p] * csr2[q]\n",
    "\n",
    "    return result\n",
    "mat1 = [[1, 0, 0], [-1, 0, 3]]\n",
    "mat2 = [[7, 0, 0], [0, 0, 0], [0, 0, 1]]\n",
    "result = multiplySparseMatrices(mat1, mat2)\n",
    "for row in result:\n",
    "    print(row)"
   ]
  }
 ],
 "metadata": {
  "kernelspec": {
   "display_name": "Python 3 (ipykernel)",
   "language": "python",
   "name": "python3"
  },
  "language_info": {
   "codemirror_mode": {
    "name": "ipython",
    "version": 3
   },
   "file_extension": ".py",
   "mimetype": "text/x-python",
   "name": "python",
   "nbconvert_exporter": "python",
   "pygments_lexer": "ipython3",
   "version": "3.10.8"
  }
 },
 "nbformat": 4,
 "nbformat_minor": 5
}
