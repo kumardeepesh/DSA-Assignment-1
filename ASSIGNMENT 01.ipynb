{
 "cells": [
  {
   "cell_type": "markdown",
   "id": "4c5238dd-df5f-4cbf-9e96-222f12309b4d",
   "metadata": {},
   "source": [
    "DSA ASSIGNMENT 1"
   ]
  },
  {
   "cell_type": "markdown",
   "id": "698f6d5a-3d61-4674-846b-f343a7931bb5",
   "metadata": {},
   "source": [
    "Q1. Given an array of integers nums and an integer target, return indices of the two\n",
    "numbers such that they add up to target.\n",
    "You may assume that each input would have exactly one solution, and you may not\n",
    "use the same element twice.\n",
    "You can return the answer in any order.\n",
    "Example:\n",
    "Input: nums = [2,7,11,15], target = 9\n",
    "Output0 [0,1]\n",
    "Explanation: Because nums[0] + nums[1] == 9, we return [0, 1]"
   ]
  },
  {
   "cell_type": "code",
   "execution_count": 28,
   "id": "44dd7aa7-2e3d-4f5f-926c-92a900332e34",
   "metadata": {},
   "outputs": [
    {
     "name": "stdout",
     "output_type": "stream",
     "text": [
      "[0, 1]\n"
     ]
    }
   ],
   "source": [
    "def twoSum(nums, target):\n",
    "    ar = {} \n",
    "    for i, num in enumerate(nums):\n",
    "        comp = target - num\n",
    "        if comp in ar:\n",
    "            return [ar[comp], i]\n",
    "        ar[num] = i\n",
    "    return [] \n",
    "\n",
    "nums = [2, 7, 11, 15]\n",
    "target = 9\n",
    "result = twoSum(nums, target)\n",
    "print(result) "
   ]
  },
  {
   "cell_type": "markdown",
   "id": "710b3fca-15a5-4d4c-bab7-54adfe51a845",
   "metadata": {},
   "source": [
    "Q2. Given an integer array nums and an integer val, remove all occurrences of val in\n",
    "nums in-place. The order of the elements may be changed. Then return the number of\n",
    "elements in nums which are not equal to val.\n",
    "Consider the number of elements in nums which are not equal to val be k, to get\n",
    "accepted, you need to do the following things:\n",
    "• Change the array nums such that the first k elements of nums contain the\n",
    "elements which are not equal to val. The remaining elements of nums are not\n",
    "important as well as the size of nums.\n",
    "• Return k.\n",
    "Example :\n",
    "Input: nums = [3,2,2,3], val = 3\n",
    "Output: 2, nums = [2,2,_,_]\n",
    "Explanation: Your function should return k = 2, with the first two elements of nums\n",
    "being 2. It does not matter what you leave beyond the returned k (hence they are\n",
    "underscores)"
   ]
  },
  {
   "cell_type": "code",
   "execution_count": 34,
   "id": "fcc5c619-b943-4231-bb9d-9333ceaf2560",
   "metadata": {},
   "outputs": [
    {
     "name": "stdout",
     "output_type": "stream",
     "text": [
      "Output: 2\n",
      "Modified nums: [2, 2]\n"
     ]
    }
   ],
   "source": [
    "def removeElement(nums, val):\n",
    "    i = 0\n",
    "    j = 0\n",
    "    while i < len(nums):\n",
    "        if nums[i] == val:\n",
    "            i += 1\n",
    "        else:\n",
    "            nums[j] = nums[i]\n",
    "            i += 1\n",
    "            j += 1\n",
    "    return j\n",
    "\n",
    "nums = [3, 2, 2, 3]\n",
    "val = 3\n",
    "k = removeElement(nums, val)\n",
    "print(\"Output:\", k)\n",
    "print(\"Modified nums:\", nums[:k])  "
   ]
  },
  {
   "cell_type": "markdown",
   "id": "af0f1a2f-938d-4168-840f-2545a7c7fd33",
   "metadata": {},
   "source": [
    "Q3. Given a sorted array of distinct integers and a target value, return the index if the\n",
    "target is found. If not, return the index where it would be if it were inserted in order.\n",
    "You must write an algorithm with O(log n) runtime complexity.\n",
    "Example 1:\n",
    "Input: nums = [1,3,5,6], target = 5\n",
    "Output: 2"
   ]
  },
  {
   "cell_type": "code",
   "execution_count": 41,
   "id": "29102ca3-2214-4df9-822c-4c0d6324599b",
   "metadata": {},
   "outputs": [
    {
     "name": "stdout",
     "output_type": "stream",
     "text": [
      "Output: 2\n"
     ]
    }
   ],
   "source": [
    "def searchInsert(nums, target):\n",
    "    left = 0\n",
    "    right = len(nums) - 1\n",
    "\n",
    "    while left <= right:\n",
    "        mid = (left + right) // 2\n",
    "\n",
    "        if nums[mid] == target:\n",
    "            return mid\n",
    "        elif nums[mid] < target:\n",
    "            left = mid + 1\n",
    "        else:\n",
    "            right = mid - 1\n",
    "\n",
    "    return left\n",
    "\n",
    "nums = [1, 3, 5, 6]\n",
    "target = 5\n",
    "index = searchInsert(nums, target)\n",
    "print(\"Output:\", index) "
   ]
  },
  {
   "cell_type": "markdown",
   "id": "7dddf141-f3c7-4592-a3ac-335786a4f926",
   "metadata": {},
   "source": [
    "Q4. You are given a large integer represented as an integer array digits, where each\n",
    "digits[i] is the ith digit of the integer. The digits are ordered from most significant to\n",
    "least significant in left-to-right order. The large integer does not contain any leading\n",
    "0's.\n",
    "Increment the large integer by one and return the resulting array of digits.\n",
    "Example 1:\n",
    "Input: digits = [1,2,3]\n",
    "Output: [1,2,4]\n",
    "Explanation: The array represents the integer 123.\n",
    "Incrementing by one gives 123 + 1 = 124.\n",
    "Thus, the result should be [1,2,4]."
   ]
  },
  {
   "cell_type": "code",
   "execution_count": 45,
   "id": "b707e00e-b0fc-4d92-b99a-d5d0844008b2",
   "metadata": {},
   "outputs": [
    {
     "name": "stdout",
     "output_type": "stream",
     "text": [
      "Output: [1, 2, 4]\n"
     ]
    }
   ],
   "source": [
    "def plusOne(digits):\n",
    "    carry = 1\n",
    "    n = len(digits)\n",
    "\n",
    "    for i in range(n - 1, -1, -1):\n",
    "        sum = digits[i] + carry\n",
    "        digits[i] = sum % 10\n",
    "        carry = sum // 10\n",
    "\n",
    "        if carry == 0:\n",
    "            break\n",
    "\n",
    "    if carry != 0:\n",
    "        digits.insert(0, carry)\n",
    "\n",
    "    return digits\n",
    "\n",
    "digits = [1, 2, 3]\n",
    "result = plusOne(digits)\n",
    "print(\"Output:\", result)  "
   ]
  },
  {
   "cell_type": "markdown",
   "id": "cc19bf37-ac85-4892-ae12-834392fc18b3",
   "metadata": {},
   "source": [
    "Q5. You are given two integer arrays nums1 and nums2, sorted in non-decreasing\n",
    "order, and two integers m and n, representing the number of elements in nums1 and\n",
    "nums2 respectively.\n",
    "Merge nums1 and nums2 into a single array sorted in non-decreasing order.\n",
    "The final sorted array should not be returned by the function, but instead be stored\n",
    "inside the array nums1. To accommodate this, nums1 has a length of m + n, where\n",
    "the first m elements denote the elements that should be merged, and the last n\n",
    "elements are set to 0 and should be ignored. nums2 has a length of n.\n",
    "Example 1:\n",
    "Input: nums1 = [1,2,3,0,0,0], m = 3, nums2 = [2,5,6], n = 3\n",
    "Output: [1,2,2,3,5,6]\n",
    "Explanation: The arrays we are merging are [1,2,3] and [2,5,6].\n",
    "The result of the merge is [1,2,2,3,5,6] with the underlined elements coming from\n",
    "nums1."
   ]
  },
  {
   "cell_type": "code",
   "execution_count": 54,
   "id": "fac600b8-959a-4070-8be3-446f18eb6514",
   "metadata": {},
   "outputs": [
    {
     "name": "stdout",
     "output_type": "stream",
     "text": [
      "Output: [1, 2, 2, 3, 5, 6]\n"
     ]
    }
   ],
   "source": [
    "def merge(num1, m, num2, n):\n",
    "    p1 = m - 1\n",
    "    p2 = n - 1\n",
    "    p = m + n - 1\n",
    "\n",
    "    while p1 >= 0 and p2 >= 0:\n",
    "        if num1[p1] >= num2[p2]:\n",
    "            num1[p] = num1[p1]\n",
    "            p1 -= 1\n",
    "        else:\n",
    "            num1[p] = num2[p2]\n",
    "            p2 -= 1\n",
    "        p -= 1\n",
    "\n",
    "    while p2 >= 0:\n",
    "        num1[p] = num2[p2]\n",
    "        p2 -= 1\n",
    "        p -= 1\n",
    "\n",
    "num1 = [1, 2, 3, 0, 0, 0]\n",
    "m = 3\n",
    "num2 = [2, 5, 6]\n",
    "n = 3\n",
    "\n",
    "merge(num1, m, num2, n)\n",
    "print(\"Output:\", num1)  "
   ]
  },
  {
   "cell_type": "markdown",
   "id": "807b1197-d2b3-4ff4-8960-1627fb497e69",
   "metadata": {},
   "source": [
    "Q6. Given an integer array nums, return true if any value appears at least twice in the\n",
    "array, and return false if every element is distinct.\n",
    "Example 1:\n",
    "Input: nums = [1,2,3,1]\n",
    "Output: true"
   ]
  },
  {
   "cell_type": "code",
   "execution_count": 58,
   "id": "802c2d8c-4e47-45cc-ac7e-e8567878c932",
   "metadata": {},
   "outputs": [
    {
     "name": "stdout",
     "output_type": "stream",
     "text": [
      "Output: True\n"
     ]
    }
   ],
   "source": [
    "def containsDuplicate(nums):\n",
    "    unique_nums = set()\n",
    "\n",
    "    for num in nums:\n",
    "        if num in unique_nums:\n",
    "            return True\n",
    "        else:\n",
    "            unique_nums.add(num)\n",
    "\n",
    "    return False\n",
    "\n",
    "nums = [1, 2, 3, 1]\n",
    "print(\"Output:\", containsDuplicate(nums))  "
   ]
  },
  {
   "cell_type": "markdown",
   "id": "338df717-ed0c-4be2-98d0-688433fa914c",
   "metadata": {},
   "source": [
    "Q7. Given an integer array nums, move all 0's to the end of it while maintaining the\n",
    "relative order of the nonzero elements.\n",
    "Note that you must do this in-place without making a copy of the array.\n",
    "Example 1:\n",
    "Input: nums = [0,1,0,3,12]\n",
    "Output: [1,3,12,0,0]"
   ]
  },
  {
   "cell_type": "code",
   "execution_count": 61,
   "id": "fdcdf613-c568-4d21-848f-c107c7b9e15d",
   "metadata": {},
   "outputs": [
    {
     "name": "stdout",
     "output_type": "stream",
     "text": [
      "Output: [1, 3, 12, 0, 0]\n"
     ]
    }
   ],
   "source": [
    "def moveZeroes(num):\n",
    "    i = j = 0\n",
    "\n",
    "    while i < len(num):\n",
    "        if num[i] != 0:\n",
    "            num[j] = num[i]\n",
    "            j += 1\n",
    "        i += 1\n",
    "\n",
    "    while j < len(num):\n",
    "        num[j] = 0\n",
    "        j += 1\n",
    "\n",
    "num = [0, 1, 0, 3, 12]\n",
    "moveZeroes(num)\n",
    "print(\"Output:\", num)"
   ]
  },
  {
   "cell_type": "markdown",
   "id": "6168798a-b726-49bf-91b2-eb5a049c3cba",
   "metadata": {},
   "source": [
    "Q8. You have a set of integers s, which originally contains all the numbers from 1 to\n",
    "n. Unfortunately, due to some error, one of the numbers in s got duplicated to another\n",
    "number in the set, which results in repetition of one number and loss of another\n",
    "number.\n",
    "You are given an integer array nums representing the data status of this set after the\n",
    "error.\n",
    "Find the number that occurs twice and the number that is missing and return them in\n",
    "the form of an array."
   ]
  },
  {
   "cell_type": "code",
   "execution_count": 70,
   "id": "03b825ec-8469-4c1d-88c9-18deb2659581",
   "metadata": {},
   "outputs": [
    {
     "name": "stdout",
     "output_type": "stream",
     "text": [
      "Output: [2, 3]\n"
     ]
    }
   ],
   "source": [
    "def findErrorNums(nums):\n",
    "    xor = 0\n",
    "    for num in nums:\n",
    "        xor ^= num\n",
    "\n",
    "    n = len(nums)\n",
    "    for i in range(1, n + 1):\n",
    "        xor ^= i\n",
    "\n",
    "    rightmost_set_bit = xor & -xor\n",
    "    missing = duplicate = 0\n",
    "\n",
    "    for num in nums:\n",
    "        if num & rightmost_set_bit:\n",
    "            missing ^= num\n",
    "        else:\n",
    "            duplicate ^= num\n",
    "\n",
    "    for i in range(1, n + 1):\n",
    "        if i & rightmost_set_bit:\n",
    "            missing ^= i\n",
    "        else:\n",
    "            duplicate ^= i\n",
    "\n",
    "    for num in nums:\n",
    "        if num == missing:\n",
    "            return [missing, duplicate]\n",
    "\n",
    "    return [duplicate, missing]\n",
    "\n",
    "nums = [1, 2, 2, 4]\n",
    "result = findErrorNums(nums)\n",
    "print(\"Output:\", result)"
   ]
  },
  {
   "cell_type": "code",
   "execution_count": null,
   "id": "482155ab-4f5c-4694-ab9a-a0a69deba9a9",
   "metadata": {},
   "outputs": [],
   "source": []
  }
 ],
 "metadata": {
  "kernelspec": {
   "display_name": "Python 3 (ipykernel)",
   "language": "python",
   "name": "python3"
  },
  "language_info": {
   "codemirror_mode": {
    "name": "ipython",
    "version": 3
   },
   "file_extension": ".py",
   "mimetype": "text/x-python",
   "name": "python",
   "nbconvert_exporter": "python",
   "pygments_lexer": "ipython3",
   "version": "3.10.8"
  }
 },
 "nbformat": 4,
 "nbformat_minor": 5
}
