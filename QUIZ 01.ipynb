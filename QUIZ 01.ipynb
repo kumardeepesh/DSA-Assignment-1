{
 "cells": [
  {
   "cell_type": "markdown",
   "id": "3607faf4-578e-4692-b16a-6b52480b3142",
   "metadata": {},
   "source": [
    "Q1."
   ]
  },
  {
   "cell_type": "code",
   "execution_count": 1,
   "id": "a57a85a8-b563-40db-a650-019499d5032d",
   "metadata": {},
   "outputs": [
    {
     "name": "stdout",
     "output_type": "stream",
     "text": [
      "[1, 3, 12, 0, 0]\n",
      "[0]\n"
     ]
    }
   ],
   "source": [
    "def moveZeroes(nums):\n",
    "    left = 0\n",
    "    right = 0\n",
    "\n",
    "    while right < len(nums):\n",
    "        if nums[right] != 0:\n",
    "            nums[left], nums[right] = nums[right], nums[left]\n",
    "            left += 1\n",
    "        right += 1\n",
    "    return nums\n",
    "nums1 = [0, 1, 0, 3, 12]\n",
    "print(moveZeroes(nums1))\n",
    "nums2 = [0]\n",
    "print(moveZeroes(nums2)) "
   ]
  },
  {
   "cell_type": "markdown",
   "id": "94095260-cf75-4133-9cf2-a72c2597c10b",
   "metadata": {},
   "source": [
    "q2."
   ]
  },
  {
   "cell_type": "code",
   "execution_count": 2,
   "id": "f50b8d1d-572c-4431-a4fa-4621c2976a10",
   "metadata": {},
   "outputs": [
    {
     "name": "stdout",
     "output_type": "stream",
     "text": [
      "0\n",
      "2\n",
      "-1\n"
     ]
    }
   ],
   "source": [
    "def firstUniqChar(s):\n",
    "    freq = {}\n",
    "    for char in s:\n",
    "        freq[char] = freq.get(char, 0) + 1\n",
    "    for i in range(len(s)):\n",
    "        if freq[s[i]] == 1:\n",
    "            return i\n",
    "    return -1\n",
    "s1 = \"leetcode\"\n",
    "print(firstUniqChar(s1))  \n",
    "s2 = \"loveleetcode\"\n",
    "print(firstUniqChar(s2)) \n",
    "s3 = \"aabb\"\n",
    "print(firstUniqChar(s3))  "
   ]
  },
  {
   "cell_type": "code",
   "execution_count": null,
   "id": "4c289371-6dd0-4d4c-a96b-52446cda3460",
   "metadata": {},
   "outputs": [],
   "source": []
  }
 ],
 "metadata": {
  "kernelspec": {
   "display_name": "Python 3 (ipykernel)",
   "language": "python",
   "name": "python3"
  },
  "language_info": {
   "codemirror_mode": {
    "name": "ipython",
    "version": 3
   },
   "file_extension": ".py",
   "mimetype": "text/x-python",
   "name": "python",
   "nbconvert_exporter": "python",
   "pygments_lexer": "ipython3",
   "version": "3.10.8"
  }
 },
 "nbformat": 4,
 "nbformat_minor": 5
}
