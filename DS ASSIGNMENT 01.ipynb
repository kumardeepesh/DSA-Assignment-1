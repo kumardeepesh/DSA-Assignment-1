{
 "cells": [
  {
   "cell_type": "markdown",
   "id": "1bd941a6-5a92-4643-9357-a7feb67624dd",
   "metadata": {},
   "source": [
    "DS ASSIGNMENT 01"
   ]
  },
  {
   "cell_type": "markdown",
   "id": "839d0dec-0769-488f-aa1e-a4fa88dbab10",
   "metadata": {},
   "source": [
    "Q01. Write a Python program to reverse a string without using any built-in string reversal functions."
   ]
  },
  {
   "cell_type": "code",
   "execution_count": 1,
   "id": "d836c4e1-57e4-4f88-bc01-5aabc3c2d439",
   "metadata": {},
   "outputs": [
    {
     "name": "stdout",
     "output_type": "stream",
     "text": [
      "setarip eht fo gniK\n"
     ]
    }
   ],
   "source": [
    "def reverse_string(string):\n",
    "    reversed_str = \"\"\n",
    "    for char in string:\n",
    "        reversed_str = char + reversed_str\n",
    "    return reversed_str\n",
    "string = \"King of the pirates\"\n",
    "reversed_string = reverse_string(string)\n",
    "print(reversed_string)"
   ]
  },
  {
   "cell_type": "markdown",
   "id": "a2e647db-5d15-4c4e-bb56-d4d3f1a08c48",
   "metadata": {},
   "source": [
    "Q02. Implement a function to check if a given string is a palindrome."
   ]
  },
  {
   "cell_type": "code",
   "execution_count": 2,
   "id": "02a5c02b-765f-49cf-af17-7732ea0d81d1",
   "metadata": {},
   "outputs": [
    {
     "name": "stdout",
     "output_type": "stream",
     "text": [
      "True\n",
      "False\n"
     ]
    }
   ],
   "source": [
    "def is_palindrome(string):\n",
    "    cleaned_string = ''.join(char.lower() for char in string if char.isalnum())\n",
    "    return cleaned_string == cleaned_string[::-1]\n",
    "string1 = \"racecar\"\n",
    "print(is_palindrome(string1))\n",
    "string2 = \"Hello, World!\"\n",
    "print(is_palindrome(string2))"
   ]
  },
  {
   "cell_type": "markdown",
   "id": "f42c4cf5-069f-4348-bc9c-de6925cbee9a",
   "metadata": {},
   "source": [
    "Q03. Write a program to find the largest element in a given list"
   ]
  },
  {
   "cell_type": "code",
   "execution_count": 3,
   "id": "e2c7872a-1a3c-4409-86a2-78043fb961f3",
   "metadata": {},
   "outputs": [
    {
     "name": "stdout",
     "output_type": "stream",
     "text": [
      "Largest element: 675\n"
     ]
    }
   ],
   "source": [
    "def find_largest_element(lst):\n",
    "    if not lst:\n",
    "        return None\n",
    "    largest = lst[0]\n",
    "    for num in lst:\n",
    "        if num > largest:\n",
    "            largest = num\n",
    "    return largest\n",
    "numbers = [99, 675, 420, 315, 130]\n",
    "largest_num = find_largest_element(numbers)\n",
    "print(\"Largest element:\", largest_num)"
   ]
  },
  {
   "cell_type": "markdown",
   "id": "2326e3e1-9b9e-4ef0-bdeb-c664653fb47b",
   "metadata": {},
   "source": [
    "Q04. Implement a function to count the occurrence of each element in a list."
   ]
  },
  {
   "cell_type": "code",
   "execution_count": 4,
   "id": "c66d66a5-a26b-4e5f-9ba3-c0fd360e771c",
   "metadata": {},
   "outputs": [
    {
     "name": "stdout",
     "output_type": "stream",
     "text": [
      "Occurrences: {1: 3, 2: 3, 3: 2, 4: 2, 5: 2, 9: 1}\n"
     ]
    }
   ],
   "source": [
    "def count_occurrences(lst):\n",
    "    occurrence_count = {}\n",
    "    for element in lst:\n",
    "        if element in occurrence_count:\n",
    "            occurrence_count[element] += 1\n",
    "        else:\n",
    "            occurrence_count[element] = 1\n",
    "    return occurrence_count\n",
    "numbers = [1, 2, 3, 2, 1, 3, 4, 5, 4, 1, 2, 5, 9]\n",
    "occurrences = count_occurrences(numbers)\n",
    "print(\"Occurrences:\", occurrences)"
   ]
  },
  {
   "cell_type": "markdown",
   "id": "863831b9-942f-41cc-acd0-42fe246fe8f1",
   "metadata": {},
   "source": [
    "Q05. Write a Python program to find the second largest number in a list."
   ]
  },
  {
   "cell_type": "code",
   "execution_count": 5,
   "id": "c9b507c0-15dd-4d4d-96fb-92a32ae74db1",
   "metadata": {},
   "outputs": [
    {
     "name": "stdout",
     "output_type": "stream",
     "text": [
      "Second largest number: 311\n"
     ]
    }
   ],
   "source": [
    "def find_second_largest(numbers):\n",
    "    if len(numbers) < 2:\n",
    "        return None\n",
    "    largest = float('-inf')\n",
    "    second_largest = float('-inf')\n",
    "    for num in numbers:\n",
    "        if num > largest:\n",
    "            second_largest = largest\n",
    "            largest = num\n",
    "        elif num > second_largest and num != largest:\n",
    "            second_largest = num\n",
    "    if second_largest == float('-inf'):\n",
    "        return None\n",
    "    else:\n",
    "        return second_largest\n",
    "nums = [235, 223, 438, 110, 311, 187]\n",
    "second_largest_num = find_second_largest(nums)\n",
    "print(\"Second largest number:\", second_largest_num)"
   ]
  },
  {
   "cell_type": "markdown",
   "id": "357c87f9-cf90-4cfa-a19f-109d59306938",
   "metadata": {},
   "source": [
    "Q06.  Implement a function to remove duplicate elements from a list."
   ]
  },
  {
   "cell_type": "code",
   "execution_count": 6,
   "id": "ea6a0ed9-5adb-458e-a41a-011b1d3b5678",
   "metadata": {},
   "outputs": [
    {
     "name": "stdout",
     "output_type": "stream",
     "text": [
      "List with duplicates: [1, 2, 3, 2, 4, 5, 6, 4, 7, 8, 7, 9, 1, 6, 5, 8]\n",
      "List without duplicates: [1, 2, 3, 4, 5, 6, 7, 8, 9]\n"
     ]
    }
   ],
   "source": [
    "def remove_duplicates(lst):\n",
    "    return list(set(lst))\n",
    "numbers = [1, 2, 3, 2, 4, 5, 6, 4, 7, 8, 7, 9, 1, 6, 5,8]\n",
    "unique_numbers = remove_duplicates(numbers)\n",
    "print(\"List with duplicates:\", numbers)\n",
    "print(\"List without duplicates:\", unique_numbers)"
   ]
  },
  {
   "cell_type": "markdown",
   "id": "484f2c98-166f-4c91-a4cb-ca3fb258a507",
   "metadata": {},
   "source": [
    "Q07. Write a program to calculate the factorial of a given number."
   ]
  },
  {
   "cell_type": "code",
   "execution_count": 7,
   "id": "09f4e289-83a9-4a49-b302-10a1fbcd6638",
   "metadata": {},
   "outputs": [
    {
     "name": "stdout",
     "output_type": "stream",
     "text": [
      "Factorial of 9 is 362880\n"
     ]
    }
   ],
   "source": [
    "def factorial(n):\n",
    "    if n < 0:\n",
    "        return \"Factorial is undefined for negative numbers.\"\n",
    "    elif n == 0 or n == 1:\n",
    "        return 1\n",
    "    else:\n",
    "        result = 1\n",
    "        for i in range(2, n + 1):\n",
    "            result *= i\n",
    "        return result\n",
    "num = 9\n",
    "fact = factorial(num)\n",
    "print(\"Factorial of\", num, \"is\", fact)"
   ]
  },
  {
   "cell_type": "markdown",
   "id": "eb47112f-48da-4628-963b-fa604cc71c25",
   "metadata": {},
   "source": [
    "Q08. Implement a function to check if a given number is prime."
   ]
  },
  {
   "cell_type": "code",
   "execution_count": 8,
   "id": "8fc171fe-d508-4228-bc38-d9d86e0aab3b",
   "metadata": {},
   "outputs": [
    {
     "name": "stdout",
     "output_type": "stream",
     "text": [
      "29 is a prime number\n"
     ]
    }
   ],
   "source": [
    "def is_prime(n):\n",
    "    if n <= 1:\n",
    "        return False\n",
    "    elif n == 2:\n",
    "        return True\n",
    "    elif n % 2 == 0:\n",
    "        return False\n",
    "    else:\n",
    "        for i in range(3, int(n**0.5) + 1, 2):\n",
    "            if n % i == 0:\n",
    "                return False\n",
    "        return True\n",
    "num = 29\n",
    "if is_prime(num):\n",
    "    print(num, \"is a prime number\")\n",
    "else:\n",
    "    print(num, \"is not a prime number\")"
   ]
  },
  {
   "cell_type": "markdown",
   "id": "1a97a061-1b31-403a-9829-f687b62e1d08",
   "metadata": {},
   "source": [
    "Q09. Write a Python program to sort a list of integers in ascending order."
   ]
  },
  {
   "cell_type": "code",
   "execution_count": 9,
   "id": "084874e2-14c6-41ae-a949-281fdf964f70",
   "metadata": {},
   "outputs": [
    {
     "name": "stdout",
     "output_type": "stream",
     "text": [
      "Sorted list: [1, 1, 2, 2, 3, 5, 8, 9, 9]\n"
     ]
    }
   ],
   "source": [
    "def sort_list(nums):\n",
    "    nums.sort()\n",
    "numbers = [5, 2, 8, 1, 9, 3, 1, 9, 2]\n",
    "sort_list(numbers)\n",
    "print(\"Sorted list:\", numbers)"
   ]
  },
  {
   "cell_type": "markdown",
   "id": "d76392a0-2a06-419f-a453-7ab249e974f0",
   "metadata": {},
   "source": [
    "Q10. Implement a function to find the sum of all numbers in a list."
   ]
  },
  {
   "cell_type": "code",
   "execution_count": 10,
   "id": "753bddec-c263-4b1c-98a6-a4492f1ea5eb",
   "metadata": {},
   "outputs": [
    {
     "name": "stdout",
     "output_type": "stream",
     "text": [
      "Sum: 31\n"
     ]
    }
   ],
   "source": [
    "def calculate_sum(numbers):\n",
    "    total = sum(numbers)\n",
    "    return total\n",
    "data = [1, 2, 3, 4, 5, 6, 7, 3]\n",
    "sum_value = calculate_sum(data)\n",
    "print(\"Sum:\", sum_value)"
   ]
  },
  {
   "cell_type": "markdown",
   "id": "8a0ce6c9-87a3-46aa-aa79-c767058fb2bb",
   "metadata": {},
   "source": [
    "Q11. Write a program to find the common elements between two lists."
   ]
  },
  {
   "cell_type": "code",
   "execution_count": 11,
   "id": "00c9b725-69db-42ba-b68b-1fa8354a7d49",
   "metadata": {},
   "outputs": [
    {
     "name": "stdout",
     "output_type": "stream",
     "text": [
      "Common Elements: [4, 5, 6]\n"
     ]
    }
   ],
   "source": [
    "def find_common_elements(list1, list2):\n",
    "    common_elements = []\n",
    "    for element in list1:\n",
    "        if element in list2:\n",
    "            common_elements.append(element)\n",
    "    return common_elements\n",
    "list1 = [1, 2, 3, 4, 5, 6, 9]\n",
    "list2 = [4, 5, 6, 7, 8]\n",
    "common_elements = find_common_elements(list1, list2)\n",
    "print(\"Common Elements:\", common_elements)"
   ]
  },
  {
   "cell_type": "markdown",
   "id": "91263774-0833-4fd3-82ec-dd81351afe08",
   "metadata": {},
   "source": [
    "Q12. Implement a function to check if a given string is an anagram of another string."
   ]
  },
  {
   "cell_type": "code",
   "execution_count": 12,
   "id": "0bb0792f-6d87-48bb-a032-9ef229c73a96",
   "metadata": {},
   "outputs": [
    {
     "name": "stdout",
     "output_type": "stream",
     "text": [
      "listen and silent are anagrams.\n"
     ]
    }
   ],
   "source": [
    "def is_anagram(string1, string2):\n",
    "    string1 = string1.replace(\" \", \"\").lower()\n",
    "    string2 = string2.replace(\" \", \"\").lower()\n",
    "    sorted_string1 = sorted(string1)\n",
    "    sorted_string2 = sorted(string2)\n",
    "    if sorted_string1 == sorted_string2:\n",
    "        return True\n",
    "    else:\n",
    "        return False\n",
    "string1 = \"listen\"\n",
    "string2 = \"silent\"\n",
    "if is_anagram(string1, string2):\n",
    "    print(f\"{string1} and {string2} are anagrams.\")\n",
    "else:\n",
    "    print(f\"{string1} and {string2} are not anagrams.\")"
   ]
  },
  {
   "cell_type": "markdown",
   "id": "1954a464-514e-4ddf-9614-addf28fe9414",
   "metadata": {},
   "source": [
    "Q13. Write a Python program to generate all permutations of a given string."
   ]
  },
  {
   "cell_type": "code",
   "execution_count": 13,
   "id": "a1efdf2d-80ad-4505-b3cf-babdae8cb9b3",
   "metadata": {},
   "outputs": [
    {
     "name": "stdout",
     "output_type": "stream",
     "text": [
      "abcd12\n",
      "abcd21\n",
      "abc1d2\n",
      "abc12d\n",
      "abc2d1\n",
      "abc21d\n",
      "abdc12\n",
      "abdc21\n",
      "abd1c2\n",
      "abd12c\n",
      "abd2c1\n",
      "abd21c\n",
      "ab1cd2\n",
      "ab1c2d\n",
      "ab1dc2\n",
      "ab1d2c\n",
      "ab12cd\n",
      "ab12dc\n",
      "ab2cd1\n",
      "ab2c1d\n",
      "ab2dc1\n",
      "ab2d1c\n",
      "ab21cd\n",
      "ab21dc\n",
      "acbd12\n",
      "acbd21\n",
      "acb1d2\n",
      "acb12d\n",
      "acb2d1\n",
      "acb21d\n",
      "acdb12\n",
      "acdb21\n",
      "acd1b2\n",
      "acd12b\n",
      "acd2b1\n",
      "acd21b\n",
      "ac1bd2\n",
      "ac1b2d\n",
      "ac1db2\n",
      "ac1d2b\n",
      "ac12bd\n",
      "ac12db\n",
      "ac2bd1\n",
      "ac2b1d\n",
      "ac2db1\n",
      "ac2d1b\n",
      "ac21bd\n",
      "ac21db\n",
      "adbc12\n",
      "adbc21\n",
      "adb1c2\n",
      "adb12c\n",
      "adb2c1\n",
      "adb21c\n",
      "adcb12\n",
      "adcb21\n",
      "adc1b2\n",
      "adc12b\n",
      "adc2b1\n",
      "adc21b\n",
      "ad1bc2\n",
      "ad1b2c\n",
      "ad1cb2\n",
      "ad1c2b\n",
      "ad12bc\n",
      "ad12cb\n",
      "ad2bc1\n",
      "ad2b1c\n",
      "ad2cb1\n",
      "ad2c1b\n",
      "ad21bc\n",
      "ad21cb\n",
      "a1bcd2\n",
      "a1bc2d\n",
      "a1bdc2\n",
      "a1bd2c\n",
      "a1b2cd\n",
      "a1b2dc\n",
      "a1cbd2\n",
      "a1cb2d\n",
      "a1cdb2\n",
      "a1cd2b\n",
      "a1c2bd\n",
      "a1c2db\n",
      "a1dbc2\n",
      "a1db2c\n",
      "a1dcb2\n",
      "a1dc2b\n",
      "a1d2bc\n",
      "a1d2cb\n",
      "a12bcd\n",
      "a12bdc\n",
      "a12cbd\n",
      "a12cdb\n",
      "a12dbc\n",
      "a12dcb\n",
      "a2bcd1\n",
      "a2bc1d\n",
      "a2bdc1\n",
      "a2bd1c\n",
      "a2b1cd\n",
      "a2b1dc\n",
      "a2cbd1\n",
      "a2cb1d\n",
      "a2cdb1\n",
      "a2cd1b\n",
      "a2c1bd\n",
      "a2c1db\n",
      "a2dbc1\n",
      "a2db1c\n",
      "a2dcb1\n",
      "a2dc1b\n",
      "a2d1bc\n",
      "a2d1cb\n",
      "a21bcd\n",
      "a21bdc\n",
      "a21cbd\n",
      "a21cdb\n",
      "a21dbc\n",
      "a21dcb\n",
      "bacd12\n",
      "bacd21\n",
      "bac1d2\n",
      "bac12d\n",
      "bac2d1\n",
      "bac21d\n",
      "badc12\n",
      "badc21\n",
      "bad1c2\n",
      "bad12c\n",
      "bad2c1\n",
      "bad21c\n",
      "ba1cd2\n",
      "ba1c2d\n",
      "ba1dc2\n",
      "ba1d2c\n",
      "ba12cd\n",
      "ba12dc\n",
      "ba2cd1\n",
      "ba2c1d\n",
      "ba2dc1\n",
      "ba2d1c\n",
      "ba21cd\n",
      "ba21dc\n",
      "bcad12\n",
      "bcad21\n",
      "bca1d2\n",
      "bca12d\n",
      "bca2d1\n",
      "bca21d\n",
      "bcda12\n",
      "bcda21\n",
      "bcd1a2\n",
      "bcd12a\n",
      "bcd2a1\n",
      "bcd21a\n",
      "bc1ad2\n",
      "bc1a2d\n",
      "bc1da2\n",
      "bc1d2a\n",
      "bc12ad\n",
      "bc12da\n",
      "bc2ad1\n",
      "bc2a1d\n",
      "bc2da1\n",
      "bc2d1a\n",
      "bc21ad\n",
      "bc21da\n",
      "bdac12\n",
      "bdac21\n",
      "bda1c2\n",
      "bda12c\n",
      "bda2c1\n",
      "bda21c\n",
      "bdca12\n",
      "bdca21\n",
      "bdc1a2\n",
      "bdc12a\n",
      "bdc2a1\n",
      "bdc21a\n",
      "bd1ac2\n",
      "bd1a2c\n",
      "bd1ca2\n",
      "bd1c2a\n",
      "bd12ac\n",
      "bd12ca\n",
      "bd2ac1\n",
      "bd2a1c\n",
      "bd2ca1\n",
      "bd2c1a\n",
      "bd21ac\n",
      "bd21ca\n",
      "b1acd2\n",
      "b1ac2d\n",
      "b1adc2\n",
      "b1ad2c\n",
      "b1a2cd\n",
      "b1a2dc\n",
      "b1cad2\n",
      "b1ca2d\n",
      "b1cda2\n",
      "b1cd2a\n",
      "b1c2ad\n",
      "b1c2da\n",
      "b1dac2\n",
      "b1da2c\n",
      "b1dca2\n",
      "b1dc2a\n",
      "b1d2ac\n",
      "b1d2ca\n",
      "b12acd\n",
      "b12adc\n",
      "b12cad\n",
      "b12cda\n",
      "b12dac\n",
      "b12dca\n",
      "b2acd1\n",
      "b2ac1d\n",
      "b2adc1\n",
      "b2ad1c\n",
      "b2a1cd\n",
      "b2a1dc\n",
      "b2cad1\n",
      "b2ca1d\n",
      "b2cda1\n",
      "b2cd1a\n",
      "b2c1ad\n",
      "b2c1da\n",
      "b2dac1\n",
      "b2da1c\n",
      "b2dca1\n",
      "b2dc1a\n",
      "b2d1ac\n",
      "b2d1ca\n",
      "b21acd\n",
      "b21adc\n",
      "b21cad\n",
      "b21cda\n",
      "b21dac\n",
      "b21dca\n",
      "cabd12\n",
      "cabd21\n",
      "cab1d2\n",
      "cab12d\n",
      "cab2d1\n",
      "cab21d\n",
      "cadb12\n",
      "cadb21\n",
      "cad1b2\n",
      "cad12b\n",
      "cad2b1\n",
      "cad21b\n",
      "ca1bd2\n",
      "ca1b2d\n",
      "ca1db2\n",
      "ca1d2b\n",
      "ca12bd\n",
      "ca12db\n",
      "ca2bd1\n",
      "ca2b1d\n",
      "ca2db1\n",
      "ca2d1b\n",
      "ca21bd\n",
      "ca21db\n",
      "cbad12\n",
      "cbad21\n",
      "cba1d2\n",
      "cba12d\n",
      "cba2d1\n",
      "cba21d\n",
      "cbda12\n",
      "cbda21\n",
      "cbd1a2\n",
      "cbd12a\n",
      "cbd2a1\n",
      "cbd21a\n",
      "cb1ad2\n",
      "cb1a2d\n",
      "cb1da2\n",
      "cb1d2a\n",
      "cb12ad\n",
      "cb12da\n",
      "cb2ad1\n",
      "cb2a1d\n",
      "cb2da1\n",
      "cb2d1a\n",
      "cb21ad\n",
      "cb21da\n",
      "cdab12\n",
      "cdab21\n",
      "cda1b2\n",
      "cda12b\n",
      "cda2b1\n",
      "cda21b\n",
      "cdba12\n",
      "cdba21\n",
      "cdb1a2\n",
      "cdb12a\n",
      "cdb2a1\n",
      "cdb21a\n",
      "cd1ab2\n",
      "cd1a2b\n",
      "cd1ba2\n",
      "cd1b2a\n",
      "cd12ab\n",
      "cd12ba\n",
      "cd2ab1\n",
      "cd2a1b\n",
      "cd2ba1\n",
      "cd2b1a\n",
      "cd21ab\n",
      "cd21ba\n",
      "c1abd2\n",
      "c1ab2d\n",
      "c1adb2\n",
      "c1ad2b\n",
      "c1a2bd\n",
      "c1a2db\n",
      "c1bad2\n",
      "c1ba2d\n",
      "c1bda2\n",
      "c1bd2a\n",
      "c1b2ad\n",
      "c1b2da\n",
      "c1dab2\n",
      "c1da2b\n",
      "c1dba2\n",
      "c1db2a\n",
      "c1d2ab\n",
      "c1d2ba\n",
      "c12abd\n",
      "c12adb\n",
      "c12bad\n",
      "c12bda\n",
      "c12dab\n",
      "c12dba\n",
      "c2abd1\n",
      "c2ab1d\n",
      "c2adb1\n",
      "c2ad1b\n",
      "c2a1bd\n",
      "c2a1db\n",
      "c2bad1\n",
      "c2ba1d\n",
      "c2bda1\n",
      "c2bd1a\n",
      "c2b1ad\n",
      "c2b1da\n",
      "c2dab1\n",
      "c2da1b\n",
      "c2dba1\n",
      "c2db1a\n",
      "c2d1ab\n",
      "c2d1ba\n",
      "c21abd\n",
      "c21adb\n",
      "c21bad\n",
      "c21bda\n",
      "c21dab\n",
      "c21dba\n",
      "dabc12\n",
      "dabc21\n",
      "dab1c2\n",
      "dab12c\n",
      "dab2c1\n",
      "dab21c\n",
      "dacb12\n",
      "dacb21\n",
      "dac1b2\n",
      "dac12b\n",
      "dac2b1\n",
      "dac21b\n",
      "da1bc2\n",
      "da1b2c\n",
      "da1cb2\n",
      "da1c2b\n",
      "da12bc\n",
      "da12cb\n",
      "da2bc1\n",
      "da2b1c\n",
      "da2cb1\n",
      "da2c1b\n",
      "da21bc\n",
      "da21cb\n",
      "dbac12\n",
      "dbac21\n",
      "dba1c2\n",
      "dba12c\n",
      "dba2c1\n",
      "dba21c\n",
      "dbca12\n",
      "dbca21\n",
      "dbc1a2\n",
      "dbc12a\n",
      "dbc2a1\n",
      "dbc21a\n",
      "db1ac2\n",
      "db1a2c\n",
      "db1ca2\n",
      "db1c2a\n",
      "db12ac\n",
      "db12ca\n",
      "db2ac1\n",
      "db2a1c\n",
      "db2ca1\n",
      "db2c1a\n",
      "db21ac\n",
      "db21ca\n",
      "dcab12\n",
      "dcab21\n",
      "dca1b2\n",
      "dca12b\n",
      "dca2b1\n",
      "dca21b\n",
      "dcba12\n",
      "dcba21\n",
      "dcb1a2\n",
      "dcb12a\n",
      "dcb2a1\n",
      "dcb21a\n",
      "dc1ab2\n",
      "dc1a2b\n",
      "dc1ba2\n",
      "dc1b2a\n",
      "dc12ab\n",
      "dc12ba\n",
      "dc2ab1\n",
      "dc2a1b\n",
      "dc2ba1\n",
      "dc2b1a\n",
      "dc21ab\n",
      "dc21ba\n",
      "d1abc2\n",
      "d1ab2c\n",
      "d1acb2\n",
      "d1ac2b\n",
      "d1a2bc\n",
      "d1a2cb\n",
      "d1bac2\n",
      "d1ba2c\n",
      "d1bca2\n",
      "d1bc2a\n",
      "d1b2ac\n",
      "d1b2ca\n",
      "d1cab2\n",
      "d1ca2b\n",
      "d1cba2\n",
      "d1cb2a\n",
      "d1c2ab\n",
      "d1c2ba\n",
      "d12abc\n",
      "d12acb\n",
      "d12bac\n",
      "d12bca\n",
      "d12cab\n",
      "d12cba\n",
      "d2abc1\n",
      "d2ab1c\n",
      "d2acb1\n",
      "d2ac1b\n",
      "d2a1bc\n",
      "d2a1cb\n",
      "d2bac1\n",
      "d2ba1c\n",
      "d2bca1\n",
      "d2bc1a\n",
      "d2b1ac\n",
      "d2b1ca\n",
      "d2cab1\n",
      "d2ca1b\n",
      "d2cba1\n",
      "d2cb1a\n",
      "d2c1ab\n",
      "d2c1ba\n",
      "d21abc\n",
      "d21acb\n",
      "d21bac\n",
      "d21bca\n",
      "d21cab\n",
      "d21cba\n",
      "1abcd2\n",
      "1abc2d\n",
      "1abdc2\n",
      "1abd2c\n",
      "1ab2cd\n",
      "1ab2dc\n",
      "1acbd2\n",
      "1acb2d\n",
      "1acdb2\n",
      "1acd2b\n",
      "1ac2bd\n",
      "1ac2db\n",
      "1adbc2\n",
      "1adb2c\n",
      "1adcb2\n",
      "1adc2b\n",
      "1ad2bc\n",
      "1ad2cb\n",
      "1a2bcd\n",
      "1a2bdc\n",
      "1a2cbd\n",
      "1a2cdb\n",
      "1a2dbc\n",
      "1a2dcb\n",
      "1bacd2\n",
      "1bac2d\n",
      "1badc2\n",
      "1bad2c\n",
      "1ba2cd\n",
      "1ba2dc\n",
      "1bcad2\n",
      "1bca2d\n",
      "1bcda2\n",
      "1bcd2a\n",
      "1bc2ad\n",
      "1bc2da\n",
      "1bdac2\n",
      "1bda2c\n",
      "1bdca2\n",
      "1bdc2a\n",
      "1bd2ac\n",
      "1bd2ca\n",
      "1b2acd\n",
      "1b2adc\n",
      "1b2cad\n",
      "1b2cda\n",
      "1b2dac\n",
      "1b2dca\n",
      "1cabd2\n",
      "1cab2d\n",
      "1cadb2\n",
      "1cad2b\n",
      "1ca2bd\n",
      "1ca2db\n",
      "1cbad2\n",
      "1cba2d\n",
      "1cbda2\n",
      "1cbd2a\n",
      "1cb2ad\n",
      "1cb2da\n",
      "1cdab2\n",
      "1cda2b\n",
      "1cdba2\n",
      "1cdb2a\n",
      "1cd2ab\n",
      "1cd2ba\n",
      "1c2abd\n",
      "1c2adb\n",
      "1c2bad\n",
      "1c2bda\n",
      "1c2dab\n",
      "1c2dba\n",
      "1dabc2\n",
      "1dab2c\n",
      "1dacb2\n",
      "1dac2b\n",
      "1da2bc\n",
      "1da2cb\n",
      "1dbac2\n",
      "1dba2c\n",
      "1dbca2\n",
      "1dbc2a\n",
      "1db2ac\n",
      "1db2ca\n",
      "1dcab2\n",
      "1dca2b\n",
      "1dcba2\n",
      "1dcb2a\n",
      "1dc2ab\n",
      "1dc2ba\n",
      "1d2abc\n",
      "1d2acb\n",
      "1d2bac\n",
      "1d2bca\n",
      "1d2cab\n",
      "1d2cba\n",
      "12abcd\n",
      "12abdc\n",
      "12acbd\n",
      "12acdb\n",
      "12adbc\n",
      "12adcb\n",
      "12bacd\n",
      "12badc\n",
      "12bcad\n",
      "12bcda\n",
      "12bdac\n",
      "12bdca\n",
      "12cabd\n",
      "12cadb\n",
      "12cbad\n",
      "12cbda\n",
      "12cdab\n",
      "12cdba\n",
      "12dabc\n",
      "12dacb\n",
      "12dbac\n",
      "12dbca\n",
      "12dcab\n",
      "12dcba\n",
      "2abcd1\n",
      "2abc1d\n",
      "2abdc1\n",
      "2abd1c\n",
      "2ab1cd\n",
      "2ab1dc\n",
      "2acbd1\n",
      "2acb1d\n",
      "2acdb1\n",
      "2acd1b\n",
      "2ac1bd\n",
      "2ac1db\n",
      "2adbc1\n",
      "2adb1c\n",
      "2adcb1\n",
      "2adc1b\n",
      "2ad1bc\n",
      "2ad1cb\n",
      "2a1bcd\n",
      "2a1bdc\n",
      "2a1cbd\n",
      "2a1cdb\n",
      "2a1dbc\n",
      "2a1dcb\n",
      "2bacd1\n",
      "2bac1d\n",
      "2badc1\n",
      "2bad1c\n",
      "2ba1cd\n",
      "2ba1dc\n",
      "2bcad1\n",
      "2bca1d\n",
      "2bcda1\n",
      "2bcd1a\n",
      "2bc1ad\n",
      "2bc1da\n",
      "2bdac1\n",
      "2bda1c\n",
      "2bdca1\n",
      "2bdc1a\n",
      "2bd1ac\n",
      "2bd1ca\n",
      "2b1acd\n",
      "2b1adc\n",
      "2b1cad\n",
      "2b1cda\n",
      "2b1dac\n",
      "2b1dca\n",
      "2cabd1\n",
      "2cab1d\n",
      "2cadb1\n",
      "2cad1b\n",
      "2ca1bd\n",
      "2ca1db\n",
      "2cbad1\n",
      "2cba1d\n",
      "2cbda1\n",
      "2cbd1a\n",
      "2cb1ad\n",
      "2cb1da\n",
      "2cdab1\n",
      "2cda1b\n",
      "2cdba1\n",
      "2cdb1a\n",
      "2cd1ab\n",
      "2cd1ba\n",
      "2c1abd\n",
      "2c1adb\n",
      "2c1bad\n",
      "2c1bda\n",
      "2c1dab\n",
      "2c1dba\n",
      "2dabc1\n",
      "2dab1c\n",
      "2dacb1\n",
      "2dac1b\n",
      "2da1bc\n",
      "2da1cb\n",
      "2dbac1\n",
      "2dba1c\n",
      "2dbca1\n",
      "2dbc1a\n",
      "2db1ac\n",
      "2db1ca\n",
      "2dcab1\n",
      "2dca1b\n",
      "2dcba1\n",
      "2dcb1a\n",
      "2dc1ab\n",
      "2dc1ba\n",
      "2d1abc\n",
      "2d1acb\n",
      "2d1bac\n",
      "2d1bca\n",
      "2d1cab\n",
      "2d1cba\n",
      "21abcd\n",
      "21abdc\n",
      "21acbd\n",
      "21acdb\n",
      "21adbc\n",
      "21adcb\n",
      "21bacd\n",
      "21badc\n",
      "21bcad\n",
      "21bcda\n",
      "21bdac\n",
      "21bdca\n",
      "21cabd\n",
      "21cadb\n",
      "21cbad\n",
      "21cbda\n",
      "21cdab\n",
      "21cdba\n",
      "21dabc\n",
      "21dacb\n",
      "21dbac\n",
      "21dbca\n",
      "21dcab\n",
      "21dcba\n"
     ]
    }
   ],
   "source": [
    "import itertools\n",
    "def generate_permutations(string):\n",
    "    characters = list(string)\n",
    "    permutations = list(itertools.permutations(characters))\n",
    "    permutations = [''.join(permutation) for permutation in permutations]\n",
    "    return permutations\n",
    "string = \"abcd12\"\n",
    "permutations = generate_permutations(string)\n",
    "for permutation in permutations:\n",
    "    print(permutation)"
   ]
  },
  {
   "cell_type": "markdown",
   "id": "12fdd05d-605b-4fd2-bddf-499a642ea27b",
   "metadata": {},
   "source": [
    "Q14. Implement a function to calculate the Fibonacci sequence up to a given number of terms."
   ]
  },
  {
   "cell_type": "code",
   "execution_count": 14,
   "id": "72ef35e1-8d22-4425-a8b2-50e03412fdec",
   "metadata": {},
   "outputs": [
    {
     "name": "stdout",
     "output_type": "stream",
     "text": [
      "[0, 1, 1, 2, 3, 5, 8, 13, 21, 34, 55, 89, 144, 233, 377, 610, 987]\n"
     ]
    }
   ],
   "source": [
    "def fibonacci(n):\n",
    "    sequence = [] \n",
    "    if n >= 1:\n",
    "        sequence.append(0)\n",
    "    if n >= 2:\n",
    "        sequence.append(1)\n",
    "    for i in range(2, n):\n",
    "        next_term = sequence[i-1] + sequence[i-2]\n",
    "        sequence.append(next_term)\n",
    "    return sequence\n",
    "n = 17\n",
    "fib_sequence = fibonacci(n)\n",
    "print(fib_sequence)"
   ]
  },
  {
   "cell_type": "markdown",
   "id": "946991b2-4209-4d6e-b6e1-83c6f35785c3",
   "metadata": {},
   "source": [
    "Q15. Write a program to find the median of a list of numbers."
   ]
  },
  {
   "cell_type": "code",
   "execution_count": 15,
   "id": "5496537c-4a81-4003-bbe9-045e9432dc8a",
   "metadata": {},
   "outputs": [
    {
     "name": "stdout",
     "output_type": "stream",
     "text": [
      "Median: 7\n"
     ]
    }
   ],
   "source": [
    "def find_median(numbers):\n",
    "    sorted_numbers = sorted(numbers)\n",
    "    n = len(sorted_numbers)\n",
    "    if n % 2 == 0:\n",
    "        middle_right = n // 2\n",
    "        middle_left = middle_right - 1\n",
    "        median = (sorted_numbers[middle_left] + sorted_numbers[middle_right]) / 2\n",
    "    else:\n",
    "        middle = n // 2\n",
    "        median = sorted_numbers[middle]\n",
    "    return median\n",
    "numbers = [5, 2, 8, 4, 9, 1, 7, 3, 6, 13, 22, 10, 12]\n",
    "median_value = find_median(numbers)\n",
    "print(\"Median:\", median_value)"
   ]
  },
  {
   "cell_type": "markdown",
   "id": "54d2ccad-6949-4d48-91fe-84ac2e49859a",
   "metadata": {},
   "source": [
    "Q16. Implement a function to check if a given list is sorted in non-decreasing order."
   ]
  },
  {
   "cell_type": "code",
   "execution_count": 16,
   "id": "3e9d0b14-129b-4476-8c64-f90df43eb212",
   "metadata": {},
   "outputs": [
    {
     "name": "stdout",
     "output_type": "stream",
     "text": [
      "List 1: True\n",
      "List 2: False\n"
     ]
    }
   ],
   "source": [
    "def is_sorted(numbers):\n",
    "    n = len(numbers)\n",
    "    for i in range(n - 1):\n",
    "        if numbers[i] > numbers[i + 1]:\n",
    "            return False\n",
    "    return True\n",
    "numbers1 = [1, 2, 3, 4, 5, 7, 9, 11]\n",
    "numbers2 = [1, 3, 2, 4, 5, 10, 11, 9]\n",
    "print(\"List 1:\", is_sorted(numbers1)) \n",
    "print(\"List 2:\", is_sorted(numbers2)) "
   ]
  },
  {
   "cell_type": "markdown",
   "id": "77176665-86ea-492d-b95a-9e84f1bc4d70",
   "metadata": {},
   "source": [
    "Q17. Write a Python program to find the intersection of two lists."
   ]
  },
  {
   "cell_type": "code",
   "execution_count": 17,
   "id": "a07e00f5-258e-4119-b924-f681fab2cac4",
   "metadata": {},
   "outputs": [
    {
     "name": "stdout",
     "output_type": "stream",
     "text": [
      "Intersection: [9, 4, 5, 6]\n"
     ]
    }
   ],
   "source": [
    "def find_intersection(list1, list2):\n",
    "    set1 = set(list1)\n",
    "    set2 = set(list2)\n",
    "    intersection = set1.intersection(set2)\n",
    "    return list(intersection)\n",
    "list1 = [1, 2, 3, 4, 5, 6, 9]\n",
    "list2 = [4, 5, 6, 7, 8, 9, 11]\n",
    "intersection = find_intersection(list1, list2)\n",
    "print(\"Intersection:\", intersection)"
   ]
  },
  {
   "cell_type": "markdown",
   "id": "64f263e0-995f-4238-b90c-5851b7262154",
   "metadata": {},
   "source": [
    "Q18.  Implement a function to find the maximum subarray sum in a given list."
   ]
  },
  {
   "cell_type": "code",
   "execution_count": 18,
   "id": "ac00d2e3-7f21-4090-9440-d0c5379554d1",
   "metadata": {},
   "outputs": [
    {
     "name": "stdout",
     "output_type": "stream",
     "text": [
      "Maximum Subarray Sum: 6\n"
     ]
    }
   ],
   "source": [
    "def find_max_subarray_sum(nums):\n",
    "    max_sum = float('-inf') \n",
    "    current_sum = 0\n",
    "    for num in nums:\n",
    "        current_sum = max(num, current_sum + num)\n",
    "        max_sum = max(max_sum, current_sum)\n",
    "    return max_sum\n",
    "nums = [-2, 1, -3, 4, -1, 2, 1, -5, 4]\n",
    "max_sum = find_max_subarray_sum(nums)\n",
    "print(\"Maximum Subarray Sum:\", max_sum)"
   ]
  },
  {
   "cell_type": "markdown",
   "id": "9e33b4c7-cb67-436a-a654-f59b10a1b576",
   "metadata": {},
   "source": [
    "Q19. Write a program to remove all vowels from a given string."
   ]
  },
  {
   "cell_type": "code",
   "execution_count": 19,
   "id": "f0fb9080-692c-41c2-b8bc-06a7f334628f",
   "metadata": {},
   "outputs": [
    {
     "name": "stdout",
     "output_type": "stream",
     "text": [
      "String without vowels: Hll, Wrld!\n"
     ]
    }
   ],
   "source": [
    "def remove_vowels(string):\n",
    "    vowels = \"aeiouAEIOU\"\n",
    "    without_vowels = \"\"\n",
    "    for char in string:\n",
    "        if char not in vowels:\n",
    "            without_vowels += char\n",
    "    return without_vowels\n",
    "input_string = \"Hello, World!\"\n",
    "result = remove_vowels(input_string)\n",
    "print(\"String without vowels:\", result)"
   ]
  },
  {
   "cell_type": "markdown",
   "id": "81a62b48-9e2a-4d77-a3cd-5abce69e5425",
   "metadata": {},
   "source": [
    "Q20. Implement a function to reverse the order of words in a given sentence."
   ]
  },
  {
   "cell_type": "code",
   "execution_count": 20,
   "id": "fb3b0475-a6a3-40d6-92ba-58de7750f9d3",
   "metadata": {},
   "outputs": [
    {
     "name": "stdout",
     "output_type": "stream",
     "text": [
      "Reversed sentence: you? are How world! Hello,\n"
     ]
    }
   ],
   "source": [
    "def reverse_words(sentence):\n",
    "    words = sentence.split()\n",
    "    reversed_words = words[::-1]\n",
    "    reversed_sentence = ' '.join(reversed_words)\n",
    "    return reversed_sentence\n",
    "input_sentence = \"Hello, world! How are you?\"\n",
    "result = reverse_words(input_sentence)\n",
    "print(\"Reversed sentence:\", result)"
   ]
  },
  {
   "cell_type": "markdown",
   "id": "75f456e3-c841-4ae5-bf1a-0efe929689d4",
   "metadata": {},
   "source": [
    "Q21. Write a Python program to check if two strings are anagrams of each other."
   ]
  },
  {
   "cell_type": "code",
   "execution_count": 21,
   "id": "902e5079-c508-400c-843a-7814191b759c",
   "metadata": {},
   "outputs": [
    {
     "name": "stdout",
     "output_type": "stream",
     "text": [
      "Are strings anagrams? True\n"
     ]
    }
   ],
   "source": [
    "def are_anagrams(str1, str2):\n",
    "    str1 = str1.lower().replace(\" \", \"\")\n",
    "    str2 = str2.lower().replace(\" \", \"\")\n",
    "    return sorted(str1) == sorted(str2)\n",
    "string1 = \"listen\"\n",
    "string2 = \"silent\"\n",
    "result = are_anagrams(string1, string2)\n",
    "print(\"Are strings anagrams?\", result)"
   ]
  },
  {
   "cell_type": "markdown",
   "id": "f9f8d92a-5a4f-490c-a575-441d869a4edd",
   "metadata": {},
   "source": [
    "Q22. Implement a function to find the first non-repeating character in a string."
   ]
  },
  {
   "cell_type": "code",
   "execution_count": 22,
   "id": "5d5502b3-e659-4092-8a1b-0dacab9a2630",
   "metadata": {},
   "outputs": [
    {
     "name": "stdout",
     "output_type": "stream",
     "text": [
      "First non-repeating character: c\n"
     ]
    }
   ],
   "source": [
    "def find_first_non_repeating_char(string):\n",
    "    char_count = {}\n",
    "    for char in string:\n",
    "        if char in char_count:\n",
    "            char_count[char] += 1\n",
    "        else:\n",
    "            char_count[char] = 1\n",
    "    for char in string:\n",
    "        if char_count[char] == 1:\n",
    "            return char\n",
    "    return None\n",
    "string = \"abracadabra\"\n",
    "result = find_first_non_repeating_char(string)\n",
    "print(\"First non-repeating character:\", result)"
   ]
  },
  {
   "cell_type": "markdown",
   "id": "ad19eb61-6ae9-4edd-b021-ed09ae660d98",
   "metadata": {},
   "source": [
    "Q23. Write a program to find the prime factors of a given number."
   ]
  },
  {
   "cell_type": "code",
   "execution_count": 23,
   "id": "35522b9a-f580-49e0-a29c-e3834767e560",
   "metadata": {},
   "outputs": [
    {
     "name": "stdout",
     "output_type": "stream",
     "text": [
      "Prime factors of 84 are: [2, 2, 3, 7]\n"
     ]
    }
   ],
   "source": [
    "def find_prime_factors(number):\n",
    "    factors = []\n",
    "    divisor = 2\n",
    "    while divisor <= number:\n",
    "        if number % divisor == 0:\n",
    "            factors.append(divisor)\n",
    "            number = number / divisor\n",
    "        else:\n",
    "            divisor += 1\n",
    "    return factors\n",
    "number = 84\n",
    "result = find_prime_factors(number)\n",
    "print(\"Prime factors of\", number, \"are:\", result)"
   ]
  },
  {
   "cell_type": "markdown",
   "id": "1828333c-e59c-40d6-bd26-17daefa73906",
   "metadata": {},
   "source": [
    "Q24. Implement a function to check if a given number is a power of two."
   ]
  },
  {
   "cell_type": "code",
   "execution_count": 24,
   "id": "8ddb8f4c-86b6-49a1-a310-52cf3d248685",
   "metadata": {},
   "outputs": [
    {
     "name": "stdout",
     "output_type": "stream",
     "text": [
      "1 is a power of two: True\n",
      "2 is a power of two: True\n",
      "3 is a power of two: False\n",
      "4 is a power of two: True\n",
      "8 is a power of two: True\n",
      "16 is a power of two: True\n",
      "27 is a power of two: False\n",
      "32 is a power of two: True\n"
     ]
    }
   ],
   "source": [
    "def is_power_of_two(n):\n",
    "    if n <= 0:\n",
    "        return False\n",
    "    return (n & (n - 1)) == 0\n",
    "numbers = [1, 2, 3, 4, 8, 16, 27, 32]\n",
    "for num in numbers:\n",
    "    result = is_power_of_two(num)\n",
    "    print(num, \"is a power of two:\", result)"
   ]
  },
  {
   "cell_type": "markdown",
   "id": "0525b3ec-c9b2-4c81-8d0a-43f66a8b0549",
   "metadata": {},
   "source": [
    "Q25. Write a Python program to merge two sorted lists into a single sorted list."
   ]
  },
  {
   "cell_type": "code",
   "execution_count": 25,
   "id": "fb34e128-fa52-465f-9f47-468e26425894",
   "metadata": {},
   "outputs": [
    {
     "name": "stdout",
     "output_type": "stream",
     "text": [
      "Merged list: [1, 2, 3, 4, 5, 6, 7, 8, 9, 10, 11, 12]\n"
     ]
    }
   ],
   "source": [
    "def merge_sorted_lists(list1, list2):\n",
    "    merged_list = []\n",
    "    i = j = 0\n",
    "    while i < len(list1) and j < len(list2):\n",
    "        if list1[i] < list2[j]:\n",
    "            merged_list.append(list1[i])\n",
    "            i += 1\n",
    "        else:\n",
    "            merged_list.append(list2[j])\n",
    "            j += 1\n",
    "    merged_list.extend(list1[i:])\n",
    "    merged_list.extend(list2[j:])\n",
    "    return merged_list\n",
    "list1 = [1, 3, 5, 7, 9, 11]\n",
    "list2 = [2, 4, 6, 8, 10, 12]\n",
    "result = merge_sorted_lists(list1, list2)\n",
    "print(\"Merged list:\", result)"
   ]
  },
  {
   "cell_type": "markdown",
   "id": "3f7b436e-0b26-46ad-bbaa-46d9314f7ff5",
   "metadata": {},
   "source": [
    "Q26. Implement a function to find the mode of a list of numbers."
   ]
  },
  {
   "cell_type": "code",
   "execution_count": 26,
   "id": "ccd5c935-1a25-4ad3-b4c8-8e4cd301bf40",
   "metadata": {},
   "outputs": [
    {
     "name": "stdout",
     "output_type": "stream",
     "text": [
      "Mode(s): [3, 5]\n"
     ]
    }
   ],
   "source": [
    "from collections import Counter\n",
    "def find_mode(numbers):\n",
    "    count_dict = Counter(numbers)\n",
    "    max_count = max(count_dict.values())\n",
    "    mode_list = [number for number, count in count_dict.items() if count == max_count]\n",
    "    return mode_list\n",
    "numbers = [1, 2, 2, 3, 3, 3, 4, 4, 5, 5, 5, 6]\n",
    "mode = find_mode(numbers)\n",
    "print(\"Mode(s):\", mode)"
   ]
  },
  {
   "cell_type": "markdown",
   "id": "0cc3ff8c-062b-4d05-aba1-13d24964c94d",
   "metadata": {},
   "source": [
    "Q27. Write a program to find the greatest common divisor (GCD) of two numbers."
   ]
  },
  {
   "cell_type": "code",
   "execution_count": 27,
   "id": "06d2795b-3d3f-448c-9511-9fc07da170be",
   "metadata": {},
   "outputs": [
    {
     "name": "stdout",
     "output_type": "stream",
     "text": [
      "GCD of 234 and 98 is 2\n"
     ]
    }
   ],
   "source": [
    "def find_gcd(a, b):\n",
    "    while b != 0:\n",
    "        a, b = b, a % b\n",
    "    return a\n",
    "num1 = 234\n",
    "num2 = 98\n",
    "gcd = find_gcd(num1, num2)\n",
    "print(\"GCD of\", num1, \"and\", num2, \"is\", gcd)"
   ]
  },
  {
   "cell_type": "markdown",
   "id": "4be478c4-3292-4c6d-89e8-979ecae4e5dd",
   "metadata": {},
   "source": [
    "Q28. Implement a function to calculate the square root of a given number."
   ]
  },
  {
   "cell_type": "code",
   "execution_count": 28,
   "id": "9a3ac569-a791-4109-ad89-a1e670f55252",
   "metadata": {},
   "outputs": [
    {
     "name": "stdout",
     "output_type": "stream",
     "text": [
      "Square root of 16 is 4.0\n"
     ]
    }
   ],
   "source": [
    "import math\n",
    "def calculate_square_root(num):\n",
    "    if num >= 0:\n",
    "        return math.sqrt(num)\n",
    "    else:\n",
    "        raise ValueError(\"Cannot calculate square root of a negative number\")\n",
    "number = 16\n",
    "square_root = calculate_square_root(number)\n",
    "print(\"Square root of\", number, \"is\", square_root)"
   ]
  },
  {
   "cell_type": "markdown",
   "id": "cb1c8e1b-05b5-4ef8-b305-272f92d46897",
   "metadata": {},
   "source": [
    "Q29. Write a Python program to check if a given string is a valid palindrome ignoring\n",
    "non-alphanumeric characters."
   ]
  },
  {
   "cell_type": "code",
   "execution_count": 29,
   "id": "53f89caa-725a-4aa1-991c-70f43e80147e",
   "metadata": {},
   "outputs": [
    {
     "name": "stdout",
     "output_type": "stream",
     "text": [
      "Is valid palindrome: True\n"
     ]
    }
   ],
   "source": [
    "def is_valid_palindrome(s):\n",
    "    s = ''.join(c.lower() for c in s if c.isalnum())\n",
    "    return s == s[::-1]\n",
    "string = \"A man, a plan, a canal: Panama!\"\n",
    "result = is_valid_palindrome(string)\n",
    "print(\"Is valid palindrome:\", result)"
   ]
  },
  {
   "cell_type": "markdown",
   "id": "6fe61d2a-70d8-43ab-b45c-3dcc72f150f7",
   "metadata": {},
   "source": [
    "Q30. Implement a function to find the minimum element in a rotated sorted list."
   ]
  },
  {
   "cell_type": "code",
   "execution_count": 30,
   "id": "8dd1e002-311c-4b96-813d-2c4b652f8981",
   "metadata": {},
   "outputs": [
    {
     "name": "stdout",
     "output_type": "stream",
     "text": [
      "Minimum element: 0\n"
     ]
    }
   ],
   "source": [
    "def find_minimum(nums):\n",
    "    left = 0\n",
    "    right = len(nums) - 1\n",
    "    while left < right:\n",
    "        mid = (left + right) // 2\n",
    "        if nums[mid] < nums[right]:\n",
    "            right = mid\n",
    "        else:\n",
    "            left = mid + 1\n",
    "    return nums[left]\n",
    "rotated_list = [4, 5, 6, 7, 0, 1, 2]\n",
    "minimum = find_minimum(rotated_list)\n",
    "print(\"Minimum element:\", minimum)"
   ]
  },
  {
   "cell_type": "markdown",
   "id": "06972716-0635-4ace-bc5f-b57ba497ed02",
   "metadata": {},
   "source": [
    "Q31. Write a program to find the sum of all even numbers in a list."
   ]
  },
  {
   "cell_type": "code",
   "execution_count": 31,
   "id": "9d5e259d-a420-485c-9597-cbc85b203ad3",
   "metadata": {},
   "outputs": [
    {
     "name": "stdout",
     "output_type": "stream",
     "text": [
      "Sum of even numbers: 30\n"
     ]
    }
   ],
   "source": [
    "def sum_even_numbers(numbers):\n",
    "    sum_even = 0\n",
    "    for num in numbers:\n",
    "        if num % 2 == 0:\n",
    "            sum_even += num\n",
    "    return sum_even\n",
    "numbers_list = [1, 2, 3, 4, 5, 6, 7, 8, 9, 10]\n",
    "sum_even = sum_even_numbers(numbers_list)\n",
    "print(\"Sum of even numbers:\", sum_even)"
   ]
  },
  {
   "cell_type": "markdown",
   "id": "03c84a0f-7b6d-4adb-906f-72a8a4358ed0",
   "metadata": {},
   "source": [
    "Q32. Implement a function to calculate the power of a number using recursion."
   ]
  },
  {
   "cell_type": "code",
   "execution_count": 32,
   "id": "685f741e-1f3c-477f-b68d-a0415078c7b1",
   "metadata": {},
   "outputs": [
    {
     "name": "stdout",
     "output_type": "stream",
     "text": [
      "2 raised to the power of 3 is: 8\n"
     ]
    }
   ],
   "source": [
    "def power(base, exponent):\n",
    "    if exponent == 0:\n",
    "        return 1\n",
    "    else:\n",
    "        return base * power(base, exponent - 1)\n",
    "base = 2\n",
    "exponent = 3\n",
    "result = power(base, exponent)\n",
    "print(f\"{base} raised to the power of {exponent} is: {result}\")"
   ]
  },
  {
   "cell_type": "markdown",
   "id": "36690655-8665-44ec-b0ab-d43ff9b1c6d6",
   "metadata": {},
   "source": [
    "Q33. Write a Python program to remove duplicates from a list while preserving the order."
   ]
  },
  {
   "cell_type": "code",
   "execution_count": 33,
   "id": "3d63ed33-0e20-4292-8156-f38184d74afa",
   "metadata": {},
   "outputs": [
    {
     "name": "stdout",
     "output_type": "stream",
     "text": [
      "Original List: [1, 2, 3, 2, 4, 1, 5, 6, 4]\n",
      "List with Duplicates Removed: [1, 2, 3, 4, 5, 6]\n"
     ]
    }
   ],
   "source": [
    "def remove_duplicates(lst):\n",
    "    unique_lst = []\n",
    "    seen = set()\n",
    "    for item in lst:\n",
    "        if item not in seen:\n",
    "            unique_lst.append(item)\n",
    "            seen.add(item)\n",
    "    return unique_lst\n",
    "original_list = [1, 2, 3, 2, 4, 1, 5, 6, 4]\n",
    "result = remove_duplicates(original_list)\n",
    "print(\"Original List:\", original_list)\n",
    "print(\"List with Duplicates Removed:\", result)"
   ]
  },
  {
   "cell_type": "markdown",
   "id": "6826dc1f-9908-47a6-a8e8-ca5c8f1ca592",
   "metadata": {},
   "source": [
    "Q34. Implement a function to find the longest common prefix among a list of strings."
   ]
  },
  {
   "cell_type": "code",
   "execution_count": 34,
   "id": "709b10ca-65ec-4adb-965a-16e84973f5f9",
   "metadata": {},
   "outputs": [
    {
     "name": "stdout",
     "output_type": "stream",
     "text": [
      "Longest Common Prefix: fl\n"
     ]
    }
   ],
   "source": [
    "def longest_common_prefix(strs):\n",
    "    if not strs:\n",
    "        return \"\"\n",
    "    prefix = strs[0] \n",
    "    for string in strs[1:]:\n",
    "        while not string.startswith(prefix):\n",
    "            prefix = prefix[:-1]\n",
    "        if not prefix:\n",
    "            return \"\"\n",
    "    return prefix\n",
    "strings = [\"flower\", \"flow\", \"flight\"]\n",
    "result = longest_common_prefix(strings)\n",
    "print(\"Longest Common Prefix:\", result)"
   ]
  },
  {
   "cell_type": "markdown",
   "id": "64240c4e-37df-487e-9998-5552c4f1b7b0",
   "metadata": {},
   "source": [
    "Q35. Write a program to check if a given number is a perfect square."
   ]
  },
  {
   "cell_type": "code",
   "execution_count": 35,
   "id": "3a234e7e-2023-4518-9a06-31d866c0cf40",
   "metadata": {},
   "outputs": [
    {
     "name": "stdout",
     "output_type": "stream",
     "text": [
      "Is 16 a perfect square? True\n"
     ]
    }
   ],
   "source": [
    "def is_perfect_square(num):\n",
    "    if num < 0:\n",
    "        return False\n",
    "    if num == 0:\n",
    "        return True\n",
    "    left = 1\n",
    "    right = num\n",
    "    while left <= right:\n",
    "        mid = (left + right) // 2\n",
    "        square = mid * mid\n",
    "        if square == num:\n",
    "            return True\n",
    "        elif square < num:\n",
    "            left = mid + 1\n",
    "        else:\n",
    "            right = mid - 1\n",
    "    return False\n",
    "number = 16\n",
    "result = is_perfect_square(number)\n",
    "print(\"Is\", number, \"a perfect square?\", result)"
   ]
  },
  {
   "cell_type": "markdown",
   "id": "4a997b7d-9a74-4bce-bc94-133c098406c3",
   "metadata": {},
   "source": [
    "Q36. Implement a function to calculate the product of all elements in a list."
   ]
  },
  {
   "cell_type": "code",
   "execution_count": 36,
   "id": "7b80d1f1-b9f5-40b6-97d7-4640e651890d",
   "metadata": {},
   "outputs": [
    {
     "name": "stdout",
     "output_type": "stream",
     "text": [
      "Product: 120\n"
     ]
    }
   ],
   "source": [
    "def calculate_product(lst):\n",
    "    product = 1\n",
    "    for num in lst:\n",
    "        product *= num\n",
    "    return product\n",
    "numbers = [1, 2, 3, 4, 5]\n",
    "result = calculate_product(numbers)\n",
    "print(\"Product:\", result)"
   ]
  },
  {
   "cell_type": "markdown",
   "id": "60a4eb4a-2a0e-4faf-b1cf-ba75adfc2633",
   "metadata": {},
   "source": [
    "Q37. Write a Python program to reverse the order of words in a sentence while preserving the\n",
    "word order."
   ]
  },
  {
   "cell_type": "code",
   "execution_count": 37,
   "id": "a15000de-4e34-451b-8936-799c600d28fb",
   "metadata": {},
   "outputs": [
    {
     "name": "stdout",
     "output_type": "stream",
     "text": [
      "Reversed sentence: sentence. a is This world! Hello,\n"
     ]
    }
   ],
   "source": [
    "def reverse_words(sentence):\n",
    "    words = sentence.split()\n",
    "    reversed_words = words[::-1]\n",
    "    reversed_sentence = ' '.join(reversed_words)\n",
    "    return reversed_sentence\n",
    "input_sentence = \"Hello, world! This is a sentence.\"\n",
    "reversed_sentence = reverse_words(input_sentence)\n",
    "print(\"Reversed sentence:\", reversed_sentence)"
   ]
  },
  {
   "cell_type": "markdown",
   "id": "449c3c43-95b4-495d-b4f0-7842728bd1bc",
   "metadata": {},
   "source": [
    "Q38. Implement a function to find the missing number in a given list of consecutive numbers."
   ]
  },
  {
   "cell_type": "code",
   "execution_count": 38,
   "id": "9b640b73-5146-46b8-9612-e11b80066be2",
   "metadata": {},
   "outputs": [
    {
     "name": "stdout",
     "output_type": "stream",
     "text": [
      "Missing number: 4\n"
     ]
    }
   ],
   "source": [
    "def find_missing_number(numbers):\n",
    "    n = len(numbers) + 1  \n",
    "    total_sum = (n * (n + 1)) // 2 \n",
    "    actual_sum = sum(numbers) \n",
    "    missing_number = total_sum - actual_sum\n",
    "    return missing_number\n",
    "numbers = [1, 2, 3, 5, 6, 7, 8]\n",
    "missing_number = find_missing_number(numbers)\n",
    "print(\"Missing number:\", missing_number)"
   ]
  },
  {
   "cell_type": "markdown",
   "id": "64f27800-da15-4a7a-b243-b44e04a27ad4",
   "metadata": {},
   "source": [
    "Q39. Write a program to find the sum of digits of a given number."
   ]
  },
  {
   "cell_type": "code",
   "execution_count": 39,
   "id": "4f407601-4de1-432d-807b-fa1b899b9fb2",
   "metadata": {},
   "outputs": [
    {
     "name": "stdout",
     "output_type": "stream",
     "text": [
      "Sum of digits: 15\n"
     ]
    }
   ],
   "source": [
    "def sum_of_digits(number):\n",
    "    number_str = str(number)\n",
    "    sum = 0\n",
    "    for digit in number_str:\n",
    "        sum += int(digit)\n",
    "    return sum\n",
    "number = 12345\n",
    "digits_sum = sum_of_digits(number)\n",
    "print(\"Sum of digits:\", digits_sum)"
   ]
  },
  {
   "cell_type": "markdown",
   "id": "be541050-3b73-4694-8be8-95df501e8836",
   "metadata": {},
   "source": [
    "Q40. Implement a function to check if a given string is a valid palindrome considering case\n",
    "sensitivity."
   ]
  },
  {
   "cell_type": "code",
   "execution_count": 40,
   "id": "a20e4ca1-5c4b-438a-9dfe-414a78f4ea14",
   "metadata": {},
   "outputs": [
    {
     "name": "stdout",
     "output_type": "stream",
     "text": [
      "Is palindrome: True\n"
     ]
    }
   ],
   "source": [
    "def is_valid_palindrome(s):\n",
    "    s = ''.join(c.lower() for c in s if c.isalnum())\n",
    "    return s == s[::-1]\n",
    "string = \"A man, a plan, a canal: Panama\"\n",
    "is_palindrome = is_valid_palindrome(string)\n",
    "print(\"Is palindrome:\", is_palindrome)"
   ]
  },
  {
   "cell_type": "markdown",
   "id": "1f2e5031-60a5-47e9-894b-115c9d456ee7",
   "metadata": {},
   "source": [
    "Q41. Write a Python program to find the smallest missing positive integer in a list."
   ]
  },
  {
   "cell_type": "code",
   "execution_count": 41,
   "id": "2582bba8-e429-461b-92f7-7abe0c79e5be",
   "metadata": {},
   "outputs": [
    {
     "name": "stdout",
     "output_type": "stream",
     "text": [
      "Smallest missing positive integer: 2\n"
     ]
    }
   ],
   "source": [
    "def find_smallest_missing_positive(nums):\n",
    "    n = len(nums)\n",
    "    for i in range(n):\n",
    "        while 1 <= nums[i] <= n and nums[nums[i] - 1] != nums[i]:\n",
    "            nums[nums[i] - 1], nums[i] = nums[i], nums[nums[i] - 1]\n",
    "    for i in range(n):\n",
    "        if nums[i] != i + 1:\n",
    "            return i + 1\n",
    "    return n + 1\n",
    "numbers = [3, 4, -1, 1]\n",
    "smallest_missing_positive = find_smallest_missing_positive(numbers)\n",
    "print(\"Smallest missing positive integer:\", smallest_missing_positive)"
   ]
  },
  {
   "cell_type": "markdown",
   "id": "c4a7f994-a154-4b08-afd1-6de3fbe34292",
   "metadata": {},
   "source": [
    "Q42. Implement a function to find the longest palindrome substring in a given string."
   ]
  },
  {
   "cell_type": "code",
   "execution_count": 42,
   "id": "fe539ad9-d4ab-492d-bd44-6a4730c67458",
   "metadata": {},
   "outputs": [
    {
     "name": "stdout",
     "output_type": "stream",
     "text": [
      "Longest palindrome substring: bab\n"
     ]
    }
   ],
   "source": [
    "def longest_palindrome(s):\n",
    "    if not s:\n",
    "        return \"\"\n",
    "    n = len(s)\n",
    "    longest = \"\"\n",
    "    def expand_around_center(left, right):\n",
    "        while left >= 0 and right < n and s[left] == s[right]:\n",
    "            left -= 1\n",
    "            right += 1\n",
    "        return s[left + 1:right]\n",
    "    for i in range(n):\n",
    "        palindrome_odd = expand_around_center(i, i)\n",
    "        palindrome_even = expand_around_center(i, i + 1)\n",
    "        if len(palindrome_odd) > len(longest):\n",
    "            longest = palindrome_odd\n",
    "        if len(palindrome_even) > len(longest):\n",
    "            longest = palindrome_even\n",
    "    return longest\n",
    "string = \"babad\"\n",
    "longest = longest_palindrome(string)\n",
    "print(\"Longest palindrome substring:\", longest)"
   ]
  },
  {
   "cell_type": "markdown",
   "id": "54ab9806-9b3d-4bb0-b1c0-597493fe4804",
   "metadata": {},
   "source": [
    "Q43. Write a program to find the number of occurrences of a given element in a list."
   ]
  },
  {
   "cell_type": "code",
   "execution_count": 43,
   "id": "95fe065f-6d1e-4d93-8893-497404805595",
   "metadata": {},
   "outputs": [
    {
     "name": "stdout",
     "output_type": "stream",
     "text": [
      "Number of occurrences: 4\n"
     ]
    }
   ],
   "source": [
    "def count_occurrences(lst, element):\n",
    "    count = 0\n",
    "    for item in lst:\n",
    "        if item == element:\n",
    "            count += 1\n",
    "    return count\n",
    "my_list = [1, 2, 3, 2, 4, 2, 5, 2]\n",
    "target_element = 2\n",
    "occurrences = count_occurrences(my_list, target_element)\n",
    "print(\"Number of occurrences:\", occurrences)"
   ]
  },
  {
   "cell_type": "markdown",
   "id": "22c9b725-96e3-48b7-8d89-7e5ff0963ceb",
   "metadata": {},
   "source": [
    "Q44. Implement a function to check if a given number is a perfect number."
   ]
  },
  {
   "cell_type": "code",
   "execution_count": 44,
   "id": "bc4a2de5-36a2-4fde-a7b8-8ba2f83cfc26",
   "metadata": {},
   "outputs": [
    {
     "name": "stdout",
     "output_type": "stream",
     "text": [
      "28 is a perfect number.\n"
     ]
    }
   ],
   "source": [
    "def is_perfect_number(num):\n",
    "    if num <= 0:\n",
    "        return False\n",
    "    divisors = [1]  \n",
    "    for i in range(2, int(num**0.5) + 1):\n",
    "        if num % i == 0:\n",
    "            divisors.append(i)\n",
    "            divisors.append(num // i)\n",
    "    return sum(divisors) == num\n",
    "number = 28\n",
    "result = is_perfect_number(number)\n",
    "\n",
    "if result:\n",
    "    print(number, \"is a perfect number.\")\n",
    "else:\n",
    "    print(number, \"is not a perfect number.\")"
   ]
  },
  {
   "cell_type": "markdown",
   "id": "dd9bd059-5ad6-4255-bc91-202b9c3b5320",
   "metadata": {},
   "source": [
    "Q45. Write a Python program to remove all duplicates from a string."
   ]
  },
  {
   "cell_type": "code",
   "execution_count": 45,
   "id": "36acabd2-b6c0-4fcd-a846-25b5e1504c6e",
   "metadata": {},
   "outputs": [
    {
     "name": "stdout",
     "output_type": "stream",
     "text": [
      "abrcd\n"
     ]
    }
   ],
   "source": [
    "def remove_duplicates(string):\n",
    "    unique_chars = []\n",
    "    result = \"\"\n",
    "    for char in string:\n",
    "        if char not in unique_chars:\n",
    "            unique_chars.append(char)\n",
    "            result += char\n",
    "    return result\n",
    "string = \"abracadabra\"\n",
    "result = remove_duplicates(string)\n",
    "print(result)"
   ]
  },
  {
   "cell_type": "markdown",
   "id": "1bd051b7-bbe8-4969-a8ed-121aebdce0c8",
   "metadata": {},
   "source": [
    "Q46. Implement a function to find the first missing positive."
   ]
  },
  {
   "cell_type": "code",
   "execution_count": 46,
   "id": "810c2d8c-d884-4547-bf70-0c94202e51a3",
   "metadata": {},
   "outputs": [
    {
     "name": "stdout",
     "output_type": "stream",
     "text": [
      "First missing positive: 2\n"
     ]
    }
   ],
   "source": [
    "def find_first_missing_positive(nums):\n",
    "    n = len(nums)\n",
    "    i = 0\n",
    "    while i < n:\n",
    "        if 0 < nums[i] <= n and nums[nums[i] - 1] != nums[i]:\n",
    "            nums[nums[i] - 1], nums[i] = nums[i], nums[nums[i] - 1]\n",
    "        else:\n",
    "            i += 1\n",
    "    for i in range(n):\n",
    "        if nums[i] != i + 1:\n",
    "            return i + 1\n",
    "    return n + 1\n",
    "nums = [3, 4, -1, 1]\n",
    "missing = find_first_missing_positive(nums)\n",
    "print(\"First missing positive:\", missing)"
   ]
  }
 ],
 "metadata": {
  "kernelspec": {
   "display_name": "Python 3 (ipykernel)",
   "language": "python",
   "name": "python3"
  },
  "language_info": {
   "codemirror_mode": {
    "name": "ipython",
    "version": 3
   },
   "file_extension": ".py",
   "mimetype": "text/x-python",
   "name": "python",
   "nbconvert_exporter": "python",
   "pygments_lexer": "ipython3",
   "version": "3.10.8"
  }
 },
 "nbformat": 4,
 "nbformat_minor": 5
}
