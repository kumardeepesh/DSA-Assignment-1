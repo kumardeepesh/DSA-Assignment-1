{
 "cells": [
  {
   "cell_type": "markdown",
   "id": "17bbc11e-e651-4bb9-b6a4-b38d51012fea",
   "metadata": {},
   "source": [
    "ASSIGNMENT 08"
   ]
  },
  {
   "cell_type": "markdown",
   "id": "6df9a0cc-6049-46ec-af7e-f76f1a441b30",
   "metadata": {},
   "source": [
    "Q1. Given two strings s1 and s2, return *the lowest **ASCII** sum of deleted characters to make two strings equal*.\n",
    "\n",
    "**Example 1:**\n",
    "\n",
    "**Input:** s1 = \"sea\", s2 = \"eat\"\n",
    "\n",
    "**Output:** 231\n",
    "\n",
    "**Explanation:** Deleting \"s\" from \"sea\" adds the ASCII value of \"s\" (115) to the sum.\n",
    "\n",
    "Deleting \"t\" from \"eat\" adds 116 to the sum.\n",
    "\n",
    "At the end, both strings are equal, and 115 + 116 = 231 is the minimum sum possible to achieve this."
   ]
  },
  {
   "cell_type": "code",
   "execution_count": 8,
   "id": "e8b525e0-1a9a-4473-b455-64e0887837e7",
   "metadata": {},
   "outputs": [
    {
     "name": "stdout",
     "output_type": "stream",
     "text": [
      "231\n"
     ]
    }
   ],
   "source": [
    "def minimumDeleteSum(s1, s2):\n",
    "    def helper(i, j):\n",
    "        if i == 0 and j == 0:\n",
    "            return 0\n",
    "        elif i == 0:\n",
    "            return helper(i, j - 1) + ord(s2[j - 1])\n",
    "        elif j == 0:\n",
    "            return helper(i - 1, j) + ord(s1[i - 1])\n",
    "        elif s1[i - 1] == s2[j - 1]:\n",
    "            return helper(i - 1, j - 1)\n",
    "        else:\n",
    "            return min(helper(i - 1, j) + ord(s1[i - 1]), helper(i, j - 1) + ord(s2[j - 1]))\n",
    "    return helper(len(s1), len(s2))\n",
    "s1 = \"sea\"\n",
    "s2 = \"eat\"\n",
    "print(minimumDeleteSum(s1, s2))"
   ]
  },
  {
   "cell_type": "markdown",
   "id": "747551a8-73bd-44e1-8fef-dd6bfb66299c",
   "metadata": {},
   "source": [
    "Q2. Given a string s containing only three types of characters: '(', ')' and '*', return true *if* s *is **valid***.\n",
    "\n",
    "The following rules define a **valid** string:\n",
    "\n",
    "- Any left parenthesis '(' must have a corresponding right parenthesis ')'.\n",
    "- Any right parenthesis ')' must have a corresponding left parenthesis '('.\n",
    "- Left parenthesis '(' must go before the corresponding right parenthesis ')'.\n",
    "- '*' could be treated as a single right parenthesis ')' or a single left parenthesis '(' or an empty string \"\".\n",
    "\n",
    "**Example 1:**\n",
    "\n",
    "**Input:** s = \"()\"\n",
    "\n",
    "**Output:**\n",
    "\n",
    "true"
   ]
  },
  {
   "cell_type": "code",
   "execution_count": 16,
   "id": "4e69a766-eb0b-45f2-9565-a21cfa6732eb",
   "metadata": {},
   "outputs": [
    {
     "name": "stdout",
     "output_type": "stream",
     "text": [
      "True\n"
     ]
    }
   ],
   "source": [
    "def isValid(s):\n",
    "    def helper(s, i, stack):\n",
    "        if i == len(s):\n",
    "            return len(stack) == 0\n",
    "        if s[i] == '(':\n",
    "            return helper(s, i + 1, stack + ['('])\n",
    "        elif s[i] == ')':\n",
    "            if len(stack) > 0 and stack[-1] == '(':\n",
    "                return helper(s, i + 1, stack[:-1])\n",
    "            else:\n",
    "                return False\n",
    "        elif s[i] == '*':\n",
    "            if helper(s, i + 1, stack):\n",
    "                return True\n",
    "            if helper(s, i + 1, stack + ['(']):\n",
    "                return True\n",
    "            if len(stack) > 0 and stack[-1] == '(' and helper(s, i + 1, stack[:-1]):\n",
    "                return True\n",
    "        return False\n",
    "    return helper(s, 0, [])\n",
    "s = \"()\"\n",
    "print(isValid(s))"
   ]
  },
  {
   "cell_type": "markdown",
   "id": "f33af5a2-2174-47c0-a350-fcd063effc47",
   "metadata": {},
   "source": [
    "Q3. Given two strings word1 and word2, return *the minimum number of **steps** required to make* word1 *and* word2 *the same*.\n",
    "\n",
    "In one **step**, you can delete exactly one character in either string.\n",
    "\n",
    "**Example 1:**\n",
    "\n",
    "**Input:** word1 = \"sea\", word2 = \"eat\"\n",
    "\n",
    "**Output:** 2\n",
    "\n",
    "**Explanation:** You need one step to make \"sea\" to \"ea\" and another step to make \"eat\" to \"ea\"."
   ]
  },
  {
   "cell_type": "code",
   "execution_count": 22,
   "id": "0e7d5e61-2c98-4df0-97be-4e2b2358b15d",
   "metadata": {},
   "outputs": [
    {
     "name": "stdout",
     "output_type": "stream",
     "text": [
      "2\n"
     ]
    }
   ],
   "source": [
    "def minDistance(word1, word2):\n",
    "    def helper(i, j):\n",
    "        if i == len(word1):\n",
    "            return len(word2) - j\n",
    "        if j == len(word2):\n",
    "            return len(word1) - i\n",
    "        if word1[i] == word2[j]:\n",
    "            return helper(i + 1, j + 1)\n",
    "        else:\n",
    "            delete1 = helper(i + 1, j) + 1\n",
    "            delete2 = helper(i, j + 1) + 1\n",
    "            return min(delete1, delete2)\n",
    "    return helper(0, 0)\n",
    "word1 = \"sea\"\n",
    "word2 = \"eat\"\n",
    "print(minDistance(word1, word2))"
   ]
  },
  {
   "cell_type": "markdown",
   "id": "319c7fac-7cb5-4e9c-b00d-fb39870aa98d",
   "metadata": {},
   "source": [
    "Q4. You need to construct a binary tree from a string consisting of parenthesis and integers.\n",
    "\n",
    "The whole input represents a binary tree. It contains an integer followed by zero, one or two pairs of parenthesis. The integer represents the root's value and a pair of parenthesis contains a child binary tree with the same structure.\n",
    "You always start to construct the **left** child node of the parent first if it exists.\n",
    "\n",
    "**Input:** s = \"4(2(3)(1))(6(5))\"\n",
    "\n",
    "**Output:** [4,2,6,3,1,5]"
   ]
  },
  {
   "cell_type": "code",
   "execution_count": 37,
   "id": "77b570e7-70a1-4151-b896-693f48a39a8c",
   "metadata": {},
   "outputs": [
    {
     "name": "stdout",
     "output_type": "stream",
     "text": [
      "[4, 2, 3, 1, 6, 5]\n"
     ]
    }
   ],
   "source": [
    "class TreeNode:\n",
    "    def __init__(self, val=0, left=None, right=None):\n",
    "        self.val = val\n",
    "        self.left = left\n",
    "        self.right = right\n",
    "def str2tree(s):\n",
    "    if not s:\n",
    "        return None\n",
    "    def build_tree(s, start, end):\n",
    "        if start > end:\n",
    "            return None\n",
    "        root_val = \"\"\n",
    "        i = start\n",
    "        while i <= end and s[i] not in ['(', ')']:\n",
    "            root_val += s[i]\n",
    "            i += 1\n",
    "        root = TreeNode(int(root_val))\n",
    "        if i <= end and s[i] == '(':\n",
    "            count = 0\n",
    "            j = i\n",
    "            while j <= end:\n",
    "                if s[j] == '(':\n",
    "                    count += 1\n",
    "                elif s[j] == ')':\n",
    "                    count -= 1\n",
    "                if count == 0:\n",
    "                    break\n",
    "                j += 1\n",
    "            root.left = build_tree(s, i + 1, j - 1)\n",
    "            i = j\n",
    "        if i + 1 <= end and s[i + 1] == '(':\n",
    "            root.right = build_tree(s, i + 2, end - 1)\n",
    "        return root\n",
    "    return build_tree(s, 0, len(s) - 1)\n",
    "def tree_to_list(root):\n",
    "    if root is None:\n",
    "        return []\n",
    "    return [root.val] + tree_to_list(root.left) + tree_to_list(root.right)\n",
    "s = \"4(2(3)(1))(6(5))\"\n",
    "tree = str2tree(s)\n",
    "result = tree_to_list(tree)\n",
    "print(result)"
   ]
  },
  {
   "cell_type": "markdown",
   "id": "6c09d78a-14c8-47d4-b8a9-7f2858c9a3a8",
   "metadata": {},
   "source": [
    "Q5. Given an array of characters chars, compress it using the following algorithm:\n",
    "\n",
    "Begin with an empty string s. For each group of **consecutive repeating characters** in chars:\n",
    "\n",
    "- If the group's length is 1, append the character to s.\n",
    "- Otherwise, append the character followed by the group's length.\n",
    "\n",
    "The compressed string s **should not be returned separately**, but instead, be stored **in the input character array chars**. Note that group lengths that are 10 or longer will be split into multiple characters in chars.\n",
    "\n",
    "After you are done **modifying the input array,** return *the new length of the array*.\n",
    "\n",
    "You must write an algorithm that uses only constant extra space.\n",
    "\n",
    "**Example 1:**\n",
    "\n",
    "**Input:** chars = [\"a\",\"a\",\"b\",\"b\",\"c\",\"c\",\"c\"]\n",
    "\n",
    "**Output:** Return 6, and the first 6 characters of the input array should be: [\"a\",\"2\",\"b\",\"2\",\"c\",\"3\"]\n",
    "\n",
    "**Explanation:**\n",
    "\n",
    "The groups are \"aa\", \"bb\", and \"ccc\". This compresses to \"a2b2c3\"."
   ]
  },
  {
   "cell_type": "code",
   "execution_count": 45,
   "id": "e944aa08-5fec-49a3-939e-d62425c0c720",
   "metadata": {},
   "outputs": [
    {
     "name": "stdout",
     "output_type": "stream",
     "text": [
      "6\n",
      "['a', '2', 'b', '2', 'c', '3']\n"
     ]
    }
   ],
   "source": [
    "def compress(chars):\n",
    "    readPtr = writePtr = 0\n",
    "    count = 1\n",
    "    for i in range(1, len(chars)):\n",
    "        if chars[i] == chars[i-1]:\n",
    "            count += 1\n",
    "        else:\n",
    "            chars[writePtr] = chars[i-1]\n",
    "            writePtr += 1\n",
    "            if count > 1:\n",
    "                countStr = str(count)\n",
    "                for digit in countStr:\n",
    "                    chars[writePtr] = digit\n",
    "                    writePtr += 1\n",
    "            count = 1\n",
    "    chars[writePtr] = chars[-1]\n",
    "    writePtr += 1\n",
    "    if count > 1:\n",
    "        countStr = str(count)\n",
    "        for digit in countStr:\n",
    "            chars[writePtr] = digit\n",
    "            writePtr += 1\n",
    "    return writePtr\n",
    "chars = [\"a\", \"a\", \"b\", \"b\", \"c\", \"c\", \"c\"]\n",
    "newLength = compress(chars)\n",
    "compressedChars = chars[:newLength]\n",
    "print(newLength)  \n",
    "print(compressedChars)  "
   ]
  },
  {
   "cell_type": "markdown",
   "id": "16b559a6-e26f-4286-97b5-c996945afaf1",
   "metadata": {},
   "source": [
    "Q6. Given two strings s and p, return *an array of all the start indices of* p*'s anagrams in* s. You may return the answer in **any order**.\n",
    "\n",
    "An **Anagram** is a word or phrase formed by rearranging the letters of a different word or phrase, typically using all the original letters exactly once.\n",
    "\n",
    "**Example 1:**\n",
    "\n",
    "**Input:** s = \"cbaebabacd\", p = \"abc\"\n",
    "\n",
    "**Output:** [0,6]\n",
    "\n",
    "**Explanation:**\n",
    "\n",
    "The substring with start index = 0 is \"cba\", which is an anagram of \"abc\".\n",
    "\n",
    "The substring with start index = 6 is \"bac\", which is an anagram of \"abc\"."
   ]
  },
  {
   "cell_type": "code",
   "execution_count": 51,
   "id": "a6767b7a-be3e-4b33-89ca-95ec375926ad",
   "metadata": {},
   "outputs": [
    {
     "name": "stdout",
     "output_type": "stream",
     "text": [
      "[0, 6]\n"
     ]
    }
   ],
   "source": [
    "def findAnagrams(s, p):\n",
    "    result = []\n",
    "    def isAnagram(s1, s2):\n",
    "        return sorted(s1) == sorted(s2)\n",
    "    def findAnagramsRecursive(s, p, start):\n",
    "        if start > len(s) - len(p):\n",
    "            return\n",
    "        window = s[start:start+len(p)]\n",
    "        if isAnagram(window, p):\n",
    "            result.append(start)\n",
    "        findAnagramsRecursive(s, p, start+1)\n",
    "    findAnagramsRecursive(s, p, 0)\n",
    "    return result\n",
    "s = \"cbaebabacd\"\n",
    "p = \"abc\"\n",
    "indices = findAnagrams(s, p)\n",
    "print(indices) "
   ]
  },
  {
   "cell_type": "markdown",
   "id": "46828b5f-f035-4965-97e0-ac0999f87092",
   "metadata": {},
   "source": [
    "Q7. Given an encoded string, return its decoded string.\n",
    "\n",
    "The encoding rule is: k[encoded_string], where the encoded_string inside the square brackets is being repeated exactly k times. Note that k is guaranteed to be a positive integer.\n",
    "\n",
    "You may assume that the input string is always valid; there are no extra white spaces, square brackets are well-formed, etc. Furthermore, you may assume that the original data does not contain any digits and that digits are only for those repeat numbers, k. For example, there will not be input like 3a or 2[4].\n",
    "\n",
    "The test cases are generated so that the length of the output will never exceed 105.\n",
    "\n",
    "**Example 1:**\n",
    "\n",
    "**Input:** s = \"3[a]2[bc]\"\n",
    "\n",
    "**Output:** \"aaabcbc\""
   ]
  },
  {
   "cell_type": "code",
   "execution_count": 59,
   "id": "6d75acf5-6cf8-4627-8eab-1b3e4ed9dde7",
   "metadata": {},
   "outputs": [
    {
     "name": "stdout",
     "output_type": "stream",
     "text": [
      "aaabcbc\n"
     ]
    }
   ],
   "source": [
    "def decodeString(s):\n",
    "    stack = []\n",
    "    curr_str = \"\"\n",
    "    curr_num = 0\n",
    "    for char in s:\n",
    "        if char.isdigit():\n",
    "            curr_num = curr_num * 10 + int(char)\n",
    "        elif char == '[':\n",
    "            stack.append(curr_str)\n",
    "            stack.append(curr_num)\n",
    "            curr_str = \"\"\n",
    "            curr_num = 0\n",
    "        elif char == ']':\n",
    "            num = stack.pop()\n",
    "            prev_str = stack.pop()\n",
    "            curr_str = prev_str + num * curr_str\n",
    "        else:\n",
    "            curr_str += char\n",
    "    return curr_str\n",
    "s = \"3[a]2[bc]\"\n",
    "decoded = decodeString(s)\n",
    "print(decoded) "
   ]
  },
  {
   "cell_type": "markdown",
   "id": "e081b019-ac19-401f-8539-d3482a7115c1",
   "metadata": {},
   "source": [
    "Q8. Given two strings s and goal, return true *if you can swap two letters in* s *so the result is equal to* goal*, otherwise, return* false*.*\n",
    "\n",
    "Swapping letters is defined as taking two indices i and j (0-indexed) such that i != j and swapping the characters at s[i] and s[j].\n",
    "\n",
    "- For example, swapping at indices 0 and 2 in \"abcd\" results in \"cbad\".\n",
    "\n",
    "**Example 1:**\n",
    "\n",
    "**Input:** s = \"ab\", goal = \"ba\"\n",
    "\n",
    "**Output:** true\n",
    "\n",
    "**Explanation:** You can swap s[0] = 'a' and s[1] = 'b' to get \"ba\", which is equal to goal."
   ]
  },
  {
   "cell_type": "code",
   "execution_count": 65,
   "id": "f3424da8-88f2-4ca6-92cb-611202f26c0b",
   "metadata": {},
   "outputs": [
    {
     "name": "stdout",
     "output_type": "stream",
     "text": [
      "True\n"
     ]
    }
   ],
   "source": [
    "def canSwap(s, goal):\n",
    "    if len(s) != len(goal):\n",
    "        return False\n",
    "    mismatch_count = 0\n",
    "    mismatch_indices = []\n",
    "    for i in range(len(s)):\n",
    "        if s[i] != goal[i]:\n",
    "            mismatch_count += 1\n",
    "            mismatch_indices.append(i)\n",
    "        if mismatch_count > 2:\n",
    "            return False\n",
    "    return mismatch_count == 2 and s[mismatch_indices[0]] == goal[mismatch_indices[1]] and s[mismatch_indices[1]] == goal[mismatch_indices[0]]\n",
    "s = \"ab\"\n",
    "goal = \"ba\"\n",
    "result = canSwap(s, goal)\n",
    "print(result) "
   ]
  }
 ],
 "metadata": {
  "kernelspec": {
   "display_name": "Python 3 (ipykernel)",
   "language": "python",
   "name": "python3"
  },
  "language_info": {
   "codemirror_mode": {
    "name": "ipython",
    "version": 3
   },
   "file_extension": ".py",
   "mimetype": "text/x-python",
   "name": "python",
   "nbconvert_exporter": "python",
   "pygments_lexer": "ipython3",
   "version": "3.10.8"
  }
 },
 "nbformat": 4,
 "nbformat_minor": 5
}
