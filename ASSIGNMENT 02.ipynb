{
 "cells": [
  {
   "cell_type": "markdown",
   "id": "43a26f5c-e586-41fb-9a39-f568b6e8b2cc",
   "metadata": {},
   "source": [
    "ASSIGNMENT 02"
   ]
  },
  {
   "cell_type": "markdown",
   "id": "938c77e8-7c51-477c-85fc-0db22977c36c",
   "metadata": {},
   "source": [
    "Q1. Given an integer array nums of 2n integers, group these integers into n\n",
    "pairs (a1, b1), (a2, b2),..., (an, bn) such that the sum of min(ai, bi) for all i is\n",
    "maximized. Return the maximized sum.\n",
    "Example 1:\n",
    "Input: nums = [1,4,3,2]\n",
    "Output: 4\n",
    "Explanation: All possible pairings (ignoring the ordering of elements) are:\n",
    "1. (1, 4), (2, 3) -> min(1, 4) + min(2, 3) = 1 + 2 = 3\n",
    "2. (1, 3), (2, 4) -> min(1, 3) + min(2, 4) = 1 + 2 = 3\n",
    "3. (1, 2), (3, 4) -> min(1, 2) + min(3, 4) = 1 + 3 = 4\n",
    "So the maximum possible sum is 4"
   ]
  },
  {
   "cell_type": "code",
   "execution_count": 2,
   "id": "7944c285-e3f2-4716-b2f6-34370f7dc62a",
   "metadata": {},
   "outputs": [
    {
     "name": "stdout",
     "output_type": "stream",
     "text": [
      "4\n"
     ]
    }
   ],
   "source": [
    "def arrayPairSum(nums):\n",
    "    nums.sort()\n",
    "    n = len(nums)\n",
    "    max_sum = 0\n",
    "    for i in range(0, n, 2):\n",
    "        max_sum += nums[i]\n",
    "    return max_sum\n",
    "n=[1,4,3,2]\n",
    "print(arrayPairSum(n))"
   ]
  },
  {
   "cell_type": "markdown",
   "id": "d1cec100-205f-4747-988d-266fc752d55a",
   "metadata": {},
   "source": [
    "Q2. Alice has n candies, where the ith candy is of type candyType[i]. Alice\n",
    "noticed that she started to gain weight, so she visited a doctor. \n",
    "The doctor advised Alice to only eat n / 2 of the candies she has (n is always\n",
    "even). Alice likes her candies very much, and she wants to eat the maximum\n",
    "number of different types of candies while still following the doctor's\n",
    "advice. \n",
    "Given the integer array candyType of length n, return the maximum number\n",
    "of different types of candies she can eat if she only eats n / 2 of them.\n",
    "Example 1:\n",
    "Input: candyType = [1,1,2,2,3,3]\n",
    "Output: 3\n",
    "Explanation: Alice can only eat 6 / 2 = 3 candies. Since there are only 3\n",
    "types, she can eat one of each type"
   ]
  },
  {
   "cell_type": "code",
   "execution_count": 3,
   "id": "5049aaae-72d3-4e02-bc65-f6246e090c97",
   "metadata": {},
   "outputs": [
    {
     "name": "stdout",
     "output_type": "stream",
     "text": [
      "3\n"
     ]
    }
   ],
   "source": [
    "def maxCandies(candyType):\n",
    "    max_types = len(set(candyType))\n",
    "    max_candies = len(candyType) // 2\n",
    "    return min(max_types, max_candies)\n",
    "ct=[1,1,2,2,3,3]\n",
    "print(maxCandies(ct))"
   ]
  },
  {
   "cell_type": "markdown",
   "id": "f6b9cb8c-8e4e-4707-bb4e-1dcc9bf4c9c3",
   "metadata": {},
   "source": [
    "Q3. We define a harmonious array as an array where the difference between its\n",
    "maximum value\n",
    "and its minimum value is exactly 1.\n",
    "Given an integer array nums, return the length of its longest harmonious\n",
    "subsequence\n",
    "among all its possible subsequences.\n",
    "A subsequence of an array is a sequence that can be derived from the array\n",
    "by deleting some or no elements without changing the order of the\n",
    "remaining elements.\n",
    "Example 1:\n",
    "Input: nums = [1,3,2,2,5,2,3,7]\n",
    "Output: 5\n",
    "Explanation: The longest harmonious subsequence is [3,2,2,2,3]."
   ]
  },
  {
   "cell_type": "code",
   "execution_count": 6,
   "id": "053cb002-364c-4b18-826c-2fc57bc70db5",
   "metadata": {},
   "outputs": [
    {
     "name": "stdout",
     "output_type": "stream",
     "text": [
      "5\n"
     ]
    }
   ],
   "source": [
    "def findLHS(nums):\n",
    "    freq_map = {}\n",
    "    max_length = 0\n",
    "    for num in nums:\n",
    "        freq_map[num] = freq_map.get(num, 0) + 1\n",
    "    for num in freq_map:\n",
    "        if num + 1 in freq_map:\n",
    "            length = freq_map[num] + freq_map[num + 1]\n",
    "            max_length = max(max_length, length)\n",
    "    return max_length\n",
    "n=[1,3,2,2,5,2,3,7]\n",
    "print(findLHS(n))"
   ]
  },
  {
   "cell_type": "markdown",
   "id": "af6dcbda-6674-4a9f-8997-d8ccdbbe902a",
   "metadata": {},
   "source": [
    "Q4. You have a long flowerbed in which some of the plots are planted, and\n",
    "some are not.\n",
    "However, flowers cannot be planted in adjacent plots.\n",
    "Given an integer array flowerbed containing 0's and 1's, where 0 means\n",
    "empty and 1 means not empty, and an integer n, return true if n new\n",
    "flowers can be planted in the flowerbed without violating the no-adjacent\u0002flowers rule and false otherwise.\n",
    "Example 1:\n",
    "Input: flowerbed = [1,0,0,0,1], n = 1\n",
    "Output: true"
   ]
  },
  {
   "cell_type": "code",
   "execution_count": 14,
   "id": "8d2c759b-7ed1-405f-ad12-bf69d84c8200",
   "metadata": {},
   "outputs": [
    {
     "name": "stdout",
     "output_type": "stream",
     "text": [
      "True\n"
     ]
    }
   ],
   "source": [
    "def canPlaceFlowers(flowerbed, n):\n",
    "    count = 0\n",
    "    i = 0\n",
    "    while i < len(flowerbed):\n",
    "        if flowerbed[i] == 0 and (i == 0 or flowerbed[i-1] == 0) and (i == len(flowerbed)-1 or flowerbed[i+1] == 0):\n",
    "            flowerbed[i] = 1\n",
    "            count += 1\n",
    "        if count >= n:\n",
    "            return True\n",
    "        i += 1\n",
    "    return False\n",
    "fb=[1,0,0,0,1]\n",
    "print(canPlaceFlowers(fb,1))"
   ]
  },
  {
   "cell_type": "markdown",
   "id": "689b5c61-1667-40c1-9b28-b10bfc192401",
   "metadata": {},
   "source": [
    "Q5. Given an integer array nums, find three numbers whose product is\n",
    "maximum and return the maximum product.\n",
    "Example 1:\n",
    "Input: nums = [1,2,3]\n",
    "Output: 6"
   ]
  },
  {
   "cell_type": "code",
   "execution_count": 15,
   "id": "2e5b117e-cfbc-41be-8559-4d1e4a925a7a",
   "metadata": {},
   "outputs": [
    {
     "name": "stdout",
     "output_type": "stream",
     "text": [
      "6\n"
     ]
    }
   ],
   "source": [
    "def maximumProduct(nums):\n",
    "    nums.sort()\n",
    "    n = len(nums)\n",
    "    return max(nums[0] * nums[1] * nums[n-1], nums[n-3] * nums[n-2] * nums[n-1])\n",
    "n=[1,2,3]\n",
    "print(maximumProduct(n))"
   ]
  },
  {
   "cell_type": "markdown",
   "id": "f7794757-0ce3-40b1-9c38-f23a62a8430b",
   "metadata": {},
   "source": [
    "Q6. Given an array of integers nums which is sorted in ascending order, and an\n",
    "integer target,\n",
    "write a function to search target in nums. If target exists, then return its\n",
    "index. Otherwise,\n",
    "return -1.\n",
    "You must write an algorithm with O(log n) runtime complexity.\n",
    "Input: nums = [-1,0,3,5,9,12], target = 9\n",
    "Output: 4\n",
    "Explanation: 9 exists in nums and its index is 4"
   ]
  },
  {
   "cell_type": "code",
   "execution_count": 18,
   "id": "5747e703-def9-4cc9-8fe2-7c76e645b5d0",
   "metadata": {},
   "outputs": [
    {
     "name": "stdout",
     "output_type": "stream",
     "text": [
      "4\n"
     ]
    }
   ],
   "source": [
    "def search(nums, target):\n",
    "    left = 0\n",
    "    right = len(nums) - 1\n",
    "    while left <= right:\n",
    "        mid = left + (right - left) // 2\n",
    "        \n",
    "        if nums[mid] == target:\n",
    "            return mid\n",
    "        elif nums[mid] < target:\n",
    "            left = mid + 1\n",
    "        else:\n",
    "            right = mid - 1  \n",
    "    return -1\n",
    "n=[-1,0,3,5,9,12]\n",
    "t=9\n",
    "print(search(n,t))"
   ]
  },
  {
   "cell_type": "markdown",
   "id": "86accef5-6fb6-49e7-84f2-544812415590",
   "metadata": {},
   "source": [
    "Q7. An array is monotonic if it is either monotone increasing or monotone\n",
    "decreasing.\n",
    "An array nums is monotone increasing if for all i <= j, nums[i] <= nums[j].\n",
    "An array nums is\n",
    "monotone decreasing if for all i <= j, nums[i] >= nums[j].\n",
    "Given an integer array nums, return true if the given array is monotonic, or\n",
    "false otherwise.\n",
    "Example 1:\n",
    "Input: nums = [1,2,2,3]\n",
    "Output: true"
   ]
  },
  {
   "cell_type": "code",
   "execution_count": 22,
   "id": "7dd8e3a5-84b9-4923-a457-02b294808bf8",
   "metadata": {},
   "outputs": [
    {
     "name": "stdout",
     "output_type": "stream",
     "text": [
      "True\n"
     ]
    }
   ],
   "source": [
    "def isMonotonic(nums):\n",
    "    n = len(nums)\n",
    "    is_increasing = True\n",
    "    is_decreasing = True   \n",
    "    for i in range(1, n):\n",
    "        if nums[i] < nums[i-1]:\n",
    "            is_increasing = False\n",
    "        if nums[i] > nums[i-1]:\n",
    "            is_decreasing = False\n",
    "    return is_increasing or is_decreasing\n",
    "n=[1,2,2,3]\n",
    "print(isMonotonic(n))"
   ]
  },
  {
   "cell_type": "markdown",
   "id": "f7a101a6-2f49-449c-a3de-f48d0c380d4a",
   "metadata": {},
   "source": [
    "Q8. You are given an integer array nums and an integer k.\n",
    "In one operation, you can choose any index i where 0 <= i < nums.length\n",
    "and change nums[i] to nums[i] + x where x is an integer from the range [-k,\n",
    "k]. You can apply this operation at most once for each index i.\n",
    "The score of nums is the difference between the maximum and minimum\n",
    "elements in nums.\n",
    "Return the minimum score of nums after applying the mentioned operation\n",
    "at most once for each index in it.\n",
    "Example 1:\n",
    "Input: nums = [1], k = 0\n",
    "Output: 0\n",
    "Explanation: The score is max(nums) - min(nums) = 1 - 1 = 0."
   ]
  },
  {
   "cell_type": "code",
   "execution_count": 26,
   "id": "286d8aed-8936-4fc9-b0ee-5e113da21e5e",
   "metadata": {},
   "outputs": [
    {
     "name": "stdout",
     "output_type": "stream",
     "text": [
      "0\n"
     ]
    }
   ],
   "source": [
    "def minimumScore(nums, k):\n",
    "    minimum = min(nums)\n",
    "    maximum = max(nums)\n",
    "    initial_score = maximum - minimum\n",
    "    if initial_score <= 2 * k:\n",
    "        return initial_score\n",
    "    new_min = minimum + k\n",
    "    new_max = maximum - k\n",
    "    return min(initial_score, new_max - new_min)\n",
    "n=[1]\n",
    "k=0\n",
    "print(minimumScore(n,k))"
   ]
  }
 ],
 "metadata": {
  "kernelspec": {
   "display_name": "Python 3 (ipykernel)",
   "language": "python",
   "name": "python3"
  },
  "language_info": {
   "codemirror_mode": {
    "name": "ipython",
    "version": 3
   },
   "file_extension": ".py",
   "mimetype": "text/x-python",
   "name": "python",
   "nbconvert_exporter": "python",
   "pygments_lexer": "ipython3",
   "version": "3.10.8"
  }
 },
 "nbformat": 4,
 "nbformat_minor": 5
}
